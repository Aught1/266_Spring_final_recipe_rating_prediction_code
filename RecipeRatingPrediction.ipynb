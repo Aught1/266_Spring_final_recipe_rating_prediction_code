{
  "cells": [
    {
      "cell_type": "markdown",
      "metadata": {
        "id": "view-in-github",
        "colab_type": "text"
      },
      "source": [
        "<a href=\"https://colab.research.google.com/github/Aught1/266_Spring_final_recipe_rating_prediction_code/blob/main/RecipeRatingPrediction.ipynb\" target=\"_parent\"><img src=\"https://colab.research.google.com/assets/colab-badge.svg\" alt=\"Open In Colab\"/></a>"
      ]
    },
    {
      "cell_type": "markdown",
      "metadata": {
        "id": "8r46tCIBqmWT"
      },
      "source": [
        "# Downloading Data/Setup"
      ]
    },
    {
      "cell_type": "code",
      "execution_count": null,
      "metadata": {
        "colab": {
          "background_save": true
        },
        "id": "QsWNL1aS6lla"
      },
      "outputs": [],
      "source": [
        "# Downloading data\n",
        "# If you moved the data to google drive then you don't need to download this data again.\n",
        "import kagglehub\n",
        "\n",
        "# Download latest version\n",
        "# kaggle link: https://www.kaggle.com/datasets/irkaal/foodcom-recipes-and-reviews\n",
        "path = kagglehub.dataset_download(\"irkaal/foodcom-recipes-and-reviews\")\n",
        "\n",
        "print(\"Path to dataset files:\", path)"
      ]
    },
    {
      "cell_type": "code",
      "execution_count": null,
      "metadata": {
        "id": "qt80eWYY1E5C"
      },
      "outputs": [],
      "source": [
        "# https://pdfs.semanticscholar.org/6eef/49044ea5ff6933c9a9cc908cdc6f13192f21.pdf"
      ]
    },
    {
      "cell_type": "code",
      "execution_count": null,
      "metadata": {
        "colab": {
          "base_uri": "https://localhost:8080/"
        },
        "id": "j3cEeW3v7RTO",
        "outputId": "4cfc336b-684c-4b00-fb0d-c2d9237789ae"
      },
      "outputs": [
        {
          "name": "stdout",
          "output_type": "stream",
          "text": [
            "Mounted at /content/drive\n"
          ]
        }
      ],
      "source": [
        "# RUN THIS EVERY TIME YOU RESTART THE NOTEBOOK\n",
        "# Connecting to google drive\n",
        "from google.colab import drive\n",
        "drive.mount('/content/drive')"
      ]
    },
    {
      "cell_type": "code",
      "execution_count": null,
      "metadata": {
        "colab": {
          "base_uri": "https://localhost:8080/"
        },
        "id": "wx_5_Nf07ZBZ",
        "outputId": "fe54c0bd-4fff-4675-d1d3-be50ecbf6844"
      },
      "outputs": [
        {
          "name": "stdout",
          "output_type": "stream",
          "text": [
            "mv: cannot stat '/root/.cache/kagglehub/datasets/irkaal/foodcom-recipes-and-reviews/versions/2': No such file or directory\n"
          ]
        }
      ],
      "source": [
        "# Moving downloaded file to google drive so you don't need to download every time this notebook is run\n",
        "# Note: put \"path\" from first code block output in place of the \"/root\" path (generally shouldn't need changing)\n",
        "!mv /root/.cache/kagglehub/datasets/irkaal/foodcom-recipes-and-reviews/versions/2 /content/drive/MyDrive/kaggle_recipe_data/"
      ]
    },
    {
      "cell_type": "markdown",
      "metadata": {
        "id": "H9P5YD3pC9d8"
      },
      "source": [
        "---\n",
        "\n",
        "# Preprocessing Data"
      ]
    },
    {
      "cell_type": "code",
      "execution_count": null,
      "metadata": {
        "colab": {
          "base_uri": "https://localhost:8080/"
        },
        "id": "0gksN4E63L3d",
        "outputId": "f16ae1e7-8a3a-4872-fcdd-0b4f06cbedbb"
      },
      "outputs": [
        {
          "name": "stdout",
          "output_type": "stream",
          "text": [
            "Requirement already satisfied: accelerate in /usr/local/lib/python3.11/dist-packages (1.5.2)\n",
            "Collecting accelerate\n",
            "  Downloading accelerate-1.6.0-py3-none-any.whl.metadata (19 kB)\n",
            "Requirement already satisfied: transformers[torch] in /usr/local/lib/python3.11/dist-packages (4.50.3)\n",
            "Collecting transformers[torch]\n",
            "  Downloading transformers-4.51.2-py3-none-any.whl.metadata (38 kB)\n",
            "Requirement already satisfied: filelock in /usr/local/lib/python3.11/dist-packages (from transformers[torch]) (3.18.0)\n",
            "Requirement already satisfied: huggingface-hub<1.0,>=0.30.0 in /usr/local/lib/python3.11/dist-packages (from transformers[torch]) (0.30.1)\n",
            "Requirement already satisfied: numpy>=1.17 in /usr/local/lib/python3.11/dist-packages (from transformers[torch]) (2.0.2)\n",
            "Requirement already satisfied: packaging>=20.0 in /usr/local/lib/python3.11/dist-packages (from transformers[torch]) (24.2)\n",
            "Requirement already satisfied: pyyaml>=5.1 in /usr/local/lib/python3.11/dist-packages (from transformers[torch]) (6.0.2)\n",
            "Requirement already satisfied: regex!=2019.12.17 in /usr/local/lib/python3.11/dist-packages (from transformers[torch]) (2024.11.6)\n",
            "Requirement already satisfied: requests in /usr/local/lib/python3.11/dist-packages (from transformers[torch]) (2.32.3)\n",
            "Requirement already satisfied: tokenizers<0.22,>=0.21 in /usr/local/lib/python3.11/dist-packages (from transformers[torch]) (0.21.1)\n",
            "Requirement already satisfied: safetensors>=0.4.3 in /usr/local/lib/python3.11/dist-packages (from transformers[torch]) (0.5.3)\n",
            "Requirement already satisfied: tqdm>=4.27 in /usr/local/lib/python3.11/dist-packages (from transformers[torch]) (4.67.1)\n",
            "Requirement already satisfied: torch>=2.0 in /usr/local/lib/python3.11/dist-packages (from transformers[torch]) (2.6.0+cu124)\n",
            "Requirement already satisfied: psutil in /usr/local/lib/python3.11/dist-packages (from accelerate) (5.9.5)\n",
            "Requirement already satisfied: fsspec>=2023.5.0 in /usr/local/lib/python3.11/dist-packages (from huggingface-hub<1.0,>=0.30.0->transformers[torch]) (2025.3.2)\n",
            "Requirement already satisfied: typing-extensions>=3.7.4.3 in /usr/local/lib/python3.11/dist-packages (from huggingface-hub<1.0,>=0.30.0->transformers[torch]) (4.13.1)\n",
            "Requirement already satisfied: networkx in /usr/local/lib/python3.11/dist-packages (from torch>=2.0->transformers[torch]) (3.4.2)\n",
            "Requirement already satisfied: jinja2 in /usr/local/lib/python3.11/dist-packages (from torch>=2.0->transformers[torch]) (3.1.6)\n",
            "Collecting nvidia-cuda-nvrtc-cu12==12.4.127 (from torch>=2.0->transformers[torch])\n",
            "  Downloading nvidia_cuda_nvrtc_cu12-12.4.127-py3-none-manylinux2014_x86_64.whl.metadata (1.5 kB)\n",
            "Collecting nvidia-cuda-runtime-cu12==12.4.127 (from torch>=2.0->transformers[torch])\n",
            "  Downloading nvidia_cuda_runtime_cu12-12.4.127-py3-none-manylinux2014_x86_64.whl.metadata (1.5 kB)\n",
            "Collecting nvidia-cuda-cupti-cu12==12.4.127 (from torch>=2.0->transformers[torch])\n",
            "  Downloading nvidia_cuda_cupti_cu12-12.4.127-py3-none-manylinux2014_x86_64.whl.metadata (1.6 kB)\n",
            "Collecting nvidia-cudnn-cu12==9.1.0.70 (from torch>=2.0->transformers[torch])\n",
            "  Downloading nvidia_cudnn_cu12-9.1.0.70-py3-none-manylinux2014_x86_64.whl.metadata (1.6 kB)\n",
            "Collecting nvidia-cublas-cu12==12.4.5.8 (from torch>=2.0->transformers[torch])\n",
            "  Downloading nvidia_cublas_cu12-12.4.5.8-py3-none-manylinux2014_x86_64.whl.metadata (1.5 kB)\n",
            "Collecting nvidia-cufft-cu12==11.2.1.3 (from torch>=2.0->transformers[torch])\n",
            "  Downloading nvidia_cufft_cu12-11.2.1.3-py3-none-manylinux2014_x86_64.whl.metadata (1.5 kB)\n",
            "Collecting nvidia-curand-cu12==10.3.5.147 (from torch>=2.0->transformers[torch])\n",
            "  Downloading nvidia_curand_cu12-10.3.5.147-py3-none-manylinux2014_x86_64.whl.metadata (1.5 kB)\n",
            "Collecting nvidia-cusolver-cu12==11.6.1.9 (from torch>=2.0->transformers[torch])\n",
            "  Downloading nvidia_cusolver_cu12-11.6.1.9-py3-none-manylinux2014_x86_64.whl.metadata (1.6 kB)\n",
            "Collecting nvidia-cusparse-cu12==12.3.1.170 (from torch>=2.0->transformers[torch])\n",
            "  Downloading nvidia_cusparse_cu12-12.3.1.170-py3-none-manylinux2014_x86_64.whl.metadata (1.6 kB)\n",
            "Requirement already satisfied: nvidia-cusparselt-cu12==0.6.2 in /usr/local/lib/python3.11/dist-packages (from torch>=2.0->transformers[torch]) (0.6.2)\n",
            "Requirement already satisfied: nvidia-nccl-cu12==2.21.5 in /usr/local/lib/python3.11/dist-packages (from torch>=2.0->transformers[torch]) (2.21.5)\n",
            "Requirement already satisfied: nvidia-nvtx-cu12==12.4.127 in /usr/local/lib/python3.11/dist-packages (from torch>=2.0->transformers[torch]) (12.4.127)\n",
            "Collecting nvidia-nvjitlink-cu12==12.4.127 (from torch>=2.0->transformers[torch])\n",
            "  Downloading nvidia_nvjitlink_cu12-12.4.127-py3-none-manylinux2014_x86_64.whl.metadata (1.5 kB)\n",
            "Requirement already satisfied: triton==3.2.0 in /usr/local/lib/python3.11/dist-packages (from torch>=2.0->transformers[torch]) (3.2.0)\n",
            "Requirement already satisfied: sympy==1.13.1 in /usr/local/lib/python3.11/dist-packages (from torch>=2.0->transformers[torch]) (1.13.1)\n",
            "Requirement already satisfied: mpmath<1.4,>=1.1.0 in /usr/local/lib/python3.11/dist-packages (from sympy==1.13.1->torch>=2.0->transformers[torch]) (1.3.0)\n",
            "Requirement already satisfied: charset-normalizer<4,>=2 in /usr/local/lib/python3.11/dist-packages (from requests->transformers[torch]) (3.4.1)\n",
            "Requirement already satisfied: idna<4,>=2.5 in /usr/local/lib/python3.11/dist-packages (from requests->transformers[torch]) (3.10)\n",
            "Requirement already satisfied: urllib3<3,>=1.21.1 in /usr/local/lib/python3.11/dist-packages (from requests->transformers[torch]) (2.3.0)\n",
            "Requirement already satisfied: certifi>=2017.4.17 in /usr/local/lib/python3.11/dist-packages (from requests->transformers[torch]) (2025.1.31)\n",
            "Requirement already satisfied: MarkupSafe>=2.0 in /usr/local/lib/python3.11/dist-packages (from jinja2->torch>=2.0->transformers[torch]) (3.0.2)\n",
            "Downloading accelerate-1.6.0-py3-none-any.whl (354 kB)\n",
            "\u001b[2K   \u001b[90m━━━━━━━━━━━━━━━━━━━━━━━━━━━━━━━━━━━━━━━━\u001b[0m \u001b[32m354.7/354.7 kB\u001b[0m \u001b[31m9.2 MB/s\u001b[0m eta \u001b[36m0:00:00\u001b[0m\n",
            "\u001b[?25hDownloading nvidia_cublas_cu12-12.4.5.8-py3-none-manylinux2014_x86_64.whl (363.4 MB)\n",
            "\u001b[2K   \u001b[90m━━━━━━━━━━━━━━━━━━━━━━━━━━━━━━━━━━━━━━━━\u001b[0m \u001b[32m363.4/363.4 MB\u001b[0m \u001b[31m1.4 MB/s\u001b[0m eta \u001b[36m0:00:00\u001b[0m\n",
            "\u001b[?25hDownloading nvidia_cuda_cupti_cu12-12.4.127-py3-none-manylinux2014_x86_64.whl (13.8 MB)\n",
            "\u001b[2K   \u001b[90m━━━━━━━━━━━━━━━━━━━━━━━━━━━━━━━━━━━━━━━━\u001b[0m \u001b[32m13.8/13.8 MB\u001b[0m \u001b[31m52.0 MB/s\u001b[0m eta \u001b[36m0:00:00\u001b[0m\n",
            "\u001b[?25hDownloading nvidia_cuda_nvrtc_cu12-12.4.127-py3-none-manylinux2014_x86_64.whl (24.6 MB)\n",
            "\u001b[2K   \u001b[90m━━━━━━━━━━━━━━━━━━━━━━━━━━━━━━━━━━━━━━━━\u001b[0m \u001b[32m24.6/24.6 MB\u001b[0m \u001b[31m32.8 MB/s\u001b[0m eta \u001b[36m0:00:00\u001b[0m\n",
            "\u001b[?25hDownloading nvidia_cuda_runtime_cu12-12.4.127-py3-none-manylinux2014_x86_64.whl (883 kB)\n",
            "\u001b[2K   \u001b[90m━━━━━━━━━━━━━━━━━━━━━━━━━━━━━━━━━━━━━━━━\u001b[0m \u001b[32m883.7/883.7 kB\u001b[0m \u001b[31m28.6 MB/s\u001b[0m eta \u001b[36m0:00:00\u001b[0m\n",
            "\u001b[?25hDownloading nvidia_cudnn_cu12-9.1.0.70-py3-none-manylinux2014_x86_64.whl (664.8 MB)\n",
            "\u001b[2K   \u001b[90m━━━━━━━━━━━━━━━━━━━━━━━━━━━━━━━━━━━━━━━━\u001b[0m \u001b[32m664.8/664.8 MB\u001b[0m \u001b[31m2.0 MB/s\u001b[0m eta \u001b[36m0:00:00\u001b[0m\n",
            "\u001b[?25hDownloading nvidia_cufft_cu12-11.2.1.3-py3-none-manylinux2014_x86_64.whl (211.5 MB)\n",
            "\u001b[2K   \u001b[90m━━━━━━━━━━━━━━━━━━━━━━━━━━━━━━━━━━━━━━━━\u001b[0m \u001b[32m211.5/211.5 MB\u001b[0m \u001b[31m5.1 MB/s\u001b[0m eta \u001b[36m0:00:00\u001b[0m\n",
            "\u001b[?25hDownloading nvidia_curand_cu12-10.3.5.147-py3-none-manylinux2014_x86_64.whl (56.3 MB)\n",
            "\u001b[2K   \u001b[90m━━━━━━━━━━━━━━━━━━━━━━━━━━━━━━━━━━━━━━━━\u001b[0m \u001b[32m56.3/56.3 MB\u001b[0m \u001b[31m11.9 MB/s\u001b[0m eta \u001b[36m0:00:00\u001b[0m\n",
            "\u001b[?25hDownloading nvidia_cusolver_cu12-11.6.1.9-py3-none-manylinux2014_x86_64.whl (127.9 MB)\n",
            "\u001b[2K   \u001b[90m━━━━━━━━━━━━━━━━━━━━━━━━━━━━━━━━━━━━━━━━\u001b[0m \u001b[32m127.9/127.9 MB\u001b[0m \u001b[31m8.6 MB/s\u001b[0m eta \u001b[36m0:00:00\u001b[0m\n",
            "\u001b[?25hDownloading nvidia_cusparse_cu12-12.3.1.170-py3-none-manylinux2014_x86_64.whl (207.5 MB)\n",
            "\u001b[2K   \u001b[90m━━━━━━━━━━━━━━━━━━━━━━━━━━━━━━━━━━━━━━━━\u001b[0m \u001b[32m207.5/207.5 MB\u001b[0m \u001b[31m6.8 MB/s\u001b[0m eta \u001b[36m0:00:00\u001b[0m\n",
            "\u001b[?25hDownloading nvidia_nvjitlink_cu12-12.4.127-py3-none-manylinux2014_x86_64.whl (21.1 MB)\n",
            "\u001b[2K   \u001b[90m━━━━━━━━━━━━━━━━━━━━━━━━━━━━━━━━━━━━━━━━\u001b[0m \u001b[32m21.1/21.1 MB\u001b[0m \u001b[31m38.9 MB/s\u001b[0m eta \u001b[36m0:00:00\u001b[0m\n",
            "\u001b[?25hDownloading transformers-4.51.2-py3-none-any.whl (10.4 MB)\n",
            "\u001b[2K   \u001b[90m━━━━━━━━━━━━━━━━━━━━━━━━━━━━━━━━━━━━━━━━\u001b[0m \u001b[32m10.4/10.4 MB\u001b[0m \u001b[31m35.7 MB/s\u001b[0m eta \u001b[36m0:00:00\u001b[0m\n",
            "\u001b[?25hInstalling collected packages: nvidia-nvjitlink-cu12, nvidia-curand-cu12, nvidia-cufft-cu12, nvidia-cuda-runtime-cu12, nvidia-cuda-nvrtc-cu12, nvidia-cuda-cupti-cu12, nvidia-cublas-cu12, nvidia-cusparse-cu12, nvidia-cudnn-cu12, nvidia-cusolver-cu12, transformers, accelerate\n",
            "  Attempting uninstall: nvidia-nvjitlink-cu12\n",
            "    Found existing installation: nvidia-nvjitlink-cu12 12.5.82\n",
            "    Uninstalling nvidia-nvjitlink-cu12-12.5.82:\n",
            "      Successfully uninstalled nvidia-nvjitlink-cu12-12.5.82\n",
            "  Attempting uninstall: nvidia-curand-cu12\n",
            "    Found existing installation: nvidia-curand-cu12 10.3.6.82\n",
            "    Uninstalling nvidia-curand-cu12-10.3.6.82:\n",
            "      Successfully uninstalled nvidia-curand-cu12-10.3.6.82\n",
            "  Attempting uninstall: nvidia-cufft-cu12\n",
            "    Found existing installation: nvidia-cufft-cu12 11.2.3.61\n",
            "    Uninstalling nvidia-cufft-cu12-11.2.3.61:\n",
            "      Successfully uninstalled nvidia-cufft-cu12-11.2.3.61\n",
            "  Attempting uninstall: nvidia-cuda-runtime-cu12\n",
            "    Found existing installation: nvidia-cuda-runtime-cu12 12.5.82\n",
            "    Uninstalling nvidia-cuda-runtime-cu12-12.5.82:\n",
            "      Successfully uninstalled nvidia-cuda-runtime-cu12-12.5.82\n",
            "  Attempting uninstall: nvidia-cuda-nvrtc-cu12\n",
            "    Found existing installation: nvidia-cuda-nvrtc-cu12 12.5.82\n",
            "    Uninstalling nvidia-cuda-nvrtc-cu12-12.5.82:\n",
            "      Successfully uninstalled nvidia-cuda-nvrtc-cu12-12.5.82\n",
            "  Attempting uninstall: nvidia-cuda-cupti-cu12\n",
            "    Found existing installation: nvidia-cuda-cupti-cu12 12.5.82\n",
            "    Uninstalling nvidia-cuda-cupti-cu12-12.5.82:\n",
            "      Successfully uninstalled nvidia-cuda-cupti-cu12-12.5.82\n",
            "  Attempting uninstall: nvidia-cublas-cu12\n",
            "    Found existing installation: nvidia-cublas-cu12 12.5.3.2\n",
            "    Uninstalling nvidia-cublas-cu12-12.5.3.2:\n",
            "      Successfully uninstalled nvidia-cublas-cu12-12.5.3.2\n",
            "  Attempting uninstall: nvidia-cusparse-cu12\n",
            "    Found existing installation: nvidia-cusparse-cu12 12.5.1.3\n",
            "    Uninstalling nvidia-cusparse-cu12-12.5.1.3:\n",
            "      Successfully uninstalled nvidia-cusparse-cu12-12.5.1.3\n",
            "  Attempting uninstall: nvidia-cudnn-cu12\n",
            "    Found existing installation: nvidia-cudnn-cu12 9.3.0.75\n",
            "    Uninstalling nvidia-cudnn-cu12-9.3.0.75:\n",
            "      Successfully uninstalled nvidia-cudnn-cu12-9.3.0.75\n",
            "  Attempting uninstall: nvidia-cusolver-cu12\n",
            "    Found existing installation: nvidia-cusolver-cu12 11.6.3.83\n",
            "    Uninstalling nvidia-cusolver-cu12-11.6.3.83:\n",
            "      Successfully uninstalled nvidia-cusolver-cu12-11.6.3.83\n",
            "  Attempting uninstall: transformers\n",
            "    Found existing installation: transformers 4.50.3\n",
            "    Uninstalling transformers-4.50.3:\n",
            "      Successfully uninstalled transformers-4.50.3\n",
            "  Attempting uninstall: accelerate\n",
            "    Found existing installation: accelerate 1.5.2\n",
            "    Uninstalling accelerate-1.5.2:\n",
            "      Successfully uninstalled accelerate-1.5.2\n",
            "Successfully installed accelerate-1.6.0 nvidia-cublas-cu12-12.4.5.8 nvidia-cuda-cupti-cu12-12.4.127 nvidia-cuda-nvrtc-cu12-12.4.127 nvidia-cuda-runtime-cu12-12.4.127 nvidia-cudnn-cu12-9.1.0.70 nvidia-cufft-cu12-11.2.1.3 nvidia-curand-cu12-10.3.5.147 nvidia-cusolver-cu12-11.6.1.9 nvidia-cusparse-cu12-12.3.1.170 nvidia-nvjitlink-cu12-12.4.127 transformers-4.51.2\n",
            "Collecting datasets\n",
            "  Downloading datasets-3.5.0-py3-none-any.whl.metadata (19 kB)\n",
            "Requirement already satisfied: filelock in /usr/local/lib/python3.11/dist-packages (from datasets) (3.18.0)\n",
            "Requirement already satisfied: numpy>=1.17 in /usr/local/lib/python3.11/dist-packages (from datasets) (2.0.2)\n",
            "Requirement already satisfied: pyarrow>=15.0.0 in /usr/local/lib/python3.11/dist-packages (from datasets) (18.1.0)\n",
            "Collecting dill<0.3.9,>=0.3.0 (from datasets)\n",
            "  Downloading dill-0.3.8-py3-none-any.whl.metadata (10 kB)\n",
            "Requirement already satisfied: pandas in /usr/local/lib/python3.11/dist-packages (from datasets) (2.2.2)\n",
            "Requirement already satisfied: requests>=2.32.2 in /usr/local/lib/python3.11/dist-packages (from datasets) (2.32.3)\n",
            "Requirement already satisfied: tqdm>=4.66.3 in /usr/local/lib/python3.11/dist-packages (from datasets) (4.67.1)\n",
            "Collecting xxhash (from datasets)\n",
            "  Downloading xxhash-3.5.0-cp311-cp311-manylinux_2_17_x86_64.manylinux2014_x86_64.whl.metadata (12 kB)\n",
            "Collecting multiprocess<0.70.17 (from datasets)\n",
            "  Downloading multiprocess-0.70.16-py311-none-any.whl.metadata (7.2 kB)\n",
            "Collecting fsspec<=2024.12.0,>=2023.1.0 (from fsspec[http]<=2024.12.0,>=2023.1.0->datasets)\n",
            "  Downloading fsspec-2024.12.0-py3-none-any.whl.metadata (11 kB)\n",
            "Requirement already satisfied: aiohttp in /usr/local/lib/python3.11/dist-packages (from datasets) (3.11.15)\n",
            "Requirement already satisfied: huggingface-hub>=0.24.0 in /usr/local/lib/python3.11/dist-packages (from datasets) (0.30.1)\n",
            "Requirement already satisfied: packaging in /usr/local/lib/python3.11/dist-packages (from datasets) (24.2)\n",
            "Requirement already satisfied: pyyaml>=5.1 in /usr/local/lib/python3.11/dist-packages (from datasets) (6.0.2)\n",
            "Requirement already satisfied: aiohappyeyeballs>=2.3.0 in /usr/local/lib/python3.11/dist-packages (from aiohttp->datasets) (2.6.1)\n",
            "Requirement already satisfied: aiosignal>=1.1.2 in /usr/local/lib/python3.11/dist-packages (from aiohttp->datasets) (1.3.2)\n",
            "Requirement already satisfied: attrs>=17.3.0 in /usr/local/lib/python3.11/dist-packages (from aiohttp->datasets) (25.3.0)\n",
            "Requirement already satisfied: frozenlist>=1.1.1 in /usr/local/lib/python3.11/dist-packages (from aiohttp->datasets) (1.5.0)\n",
            "Requirement already satisfied: multidict<7.0,>=4.5 in /usr/local/lib/python3.11/dist-packages (from aiohttp->datasets) (6.3.2)\n",
            "Requirement already satisfied: propcache>=0.2.0 in /usr/local/lib/python3.11/dist-packages (from aiohttp->datasets) (0.3.1)\n",
            "Requirement already satisfied: yarl<2.0,>=1.17.0 in /usr/local/lib/python3.11/dist-packages (from aiohttp->datasets) (1.18.3)\n",
            "Requirement already satisfied: typing-extensions>=3.7.4.3 in /usr/local/lib/python3.11/dist-packages (from huggingface-hub>=0.24.0->datasets) (4.13.1)\n",
            "Requirement already satisfied: charset-normalizer<4,>=2 in /usr/local/lib/python3.11/dist-packages (from requests>=2.32.2->datasets) (3.4.1)\n",
            "Requirement already satisfied: idna<4,>=2.5 in /usr/local/lib/python3.11/dist-packages (from requests>=2.32.2->datasets) (3.10)\n",
            "Requirement already satisfied: urllib3<3,>=1.21.1 in /usr/local/lib/python3.11/dist-packages (from requests>=2.32.2->datasets) (2.3.0)\n",
            "Requirement already satisfied: certifi>=2017.4.17 in /usr/local/lib/python3.11/dist-packages (from requests>=2.32.2->datasets) (2025.1.31)\n",
            "Requirement already satisfied: python-dateutil>=2.8.2 in /usr/local/lib/python3.11/dist-packages (from pandas->datasets) (2.8.2)\n",
            "Requirement already satisfied: pytz>=2020.1 in /usr/local/lib/python3.11/dist-packages (from pandas->datasets) (2025.2)\n",
            "Requirement already satisfied: tzdata>=2022.7 in /usr/local/lib/python3.11/dist-packages (from pandas->datasets) (2025.2)\n",
            "Requirement already satisfied: six>=1.5 in /usr/local/lib/python3.11/dist-packages (from python-dateutil>=2.8.2->pandas->datasets) (1.17.0)\n",
            "Downloading datasets-3.5.0-py3-none-any.whl (491 kB)\n",
            "\u001b[2K   \u001b[90m━━━━━━━━━━━━━━━━━━━━━━━━━━━━━━━━━━━━━━━━\u001b[0m \u001b[32m491.2/491.2 kB\u001b[0m \u001b[31m8.3 MB/s\u001b[0m eta \u001b[36m0:00:00\u001b[0m\n",
            "\u001b[?25hDownloading dill-0.3.8-py3-none-any.whl (116 kB)\n",
            "\u001b[2K   \u001b[90m━━━━━━━━━━━━━━━━━━━━━━━━━━━━━━━━━━━━━━━━\u001b[0m \u001b[32m116.3/116.3 kB\u001b[0m \u001b[31m9.4 MB/s\u001b[0m eta \u001b[36m0:00:00\u001b[0m\n",
            "\u001b[?25hDownloading fsspec-2024.12.0-py3-none-any.whl (183 kB)\n",
            "\u001b[2K   \u001b[90m━━━━━━━━━━━━━━━━━━━━━━━━━━━━━━━━━━━━━━━━\u001b[0m \u001b[32m183.9/183.9 kB\u001b[0m \u001b[31m13.7 MB/s\u001b[0m eta \u001b[36m0:00:00\u001b[0m\n",
            "\u001b[?25hDownloading multiprocess-0.70.16-py311-none-any.whl (143 kB)\n",
            "\u001b[2K   \u001b[90m━━━━━━━━━━━━━━━━━━━━━━━━━━━━━━━━━━━━━━━━\u001b[0m \u001b[32m143.5/143.5 kB\u001b[0m \u001b[31m11.5 MB/s\u001b[0m eta \u001b[36m0:00:00\u001b[0m\n",
            "\u001b[?25hDownloading xxhash-3.5.0-cp311-cp311-manylinux_2_17_x86_64.manylinux2014_x86_64.whl (194 kB)\n",
            "\u001b[2K   \u001b[90m━━━━━━━━━━━━━━━━━━━━━━━━━━━━━━━━━━━━━━━━\u001b[0m \u001b[32m194.8/194.8 kB\u001b[0m \u001b[31m15.8 MB/s\u001b[0m eta \u001b[36m0:00:00\u001b[0m\n",
            "\u001b[?25hInstalling collected packages: xxhash, fsspec, dill, multiprocess, datasets\n",
            "  Attempting uninstall: fsspec\n",
            "    Found existing installation: fsspec 2025.3.2\n",
            "    Uninstalling fsspec-2025.3.2:\n",
            "      Successfully uninstalled fsspec-2025.3.2\n",
            "\u001b[31mERROR: pip's dependency resolver does not currently take into account all the packages that are installed. This behaviour is the source of the following dependency conflicts.\n",
            "gcsfs 2025.3.2 requires fsspec==2025.3.2, but you have fsspec 2024.12.0 which is incompatible.\u001b[0m\u001b[31m\n",
            "\u001b[0mSuccessfully installed datasets-3.5.0 dill-0.3.8 fsspec-2024.12.0 multiprocess-0.70.16 xxhash-3.5.0\n",
            "Requirement already satisfied: sentence_transformers in /usr/local/lib/python3.11/dist-packages (3.4.1)\n",
            "Collecting sentence_transformers\n",
            "  Downloading sentence_transformers-4.0.2-py3-none-any.whl.metadata (13 kB)\n",
            "Requirement already satisfied: transformers<5.0.0,>=4.41.0 in /usr/local/lib/python3.11/dist-packages (from sentence_transformers) (4.51.2)\n",
            "Requirement already satisfied: tqdm in /usr/local/lib/python3.11/dist-packages (from sentence_transformers) (4.67.1)\n",
            "Requirement already satisfied: torch>=1.11.0 in /usr/local/lib/python3.11/dist-packages (from sentence_transformers) (2.6.0+cu124)\n",
            "Requirement already satisfied: scikit-learn in /usr/local/lib/python3.11/dist-packages (from sentence_transformers) (1.6.1)\n",
            "Requirement already satisfied: scipy in /usr/local/lib/python3.11/dist-packages (from sentence_transformers) (1.14.1)\n",
            "Requirement already satisfied: huggingface-hub>=0.20.0 in /usr/local/lib/python3.11/dist-packages (from sentence_transformers) (0.30.1)\n",
            "Requirement already satisfied: Pillow in /usr/local/lib/python3.11/dist-packages (from sentence_transformers) (11.1.0)\n",
            "Requirement already satisfied: typing_extensions>=4.5.0 in /usr/local/lib/python3.11/dist-packages (from sentence_transformers) (4.13.1)\n",
            "Requirement already satisfied: filelock in /usr/local/lib/python3.11/dist-packages (from huggingface-hub>=0.20.0->sentence_transformers) (3.18.0)\n",
            "Requirement already satisfied: fsspec>=2023.5.0 in /usr/local/lib/python3.11/dist-packages (from huggingface-hub>=0.20.0->sentence_transformers) (2024.12.0)\n",
            "Requirement already satisfied: packaging>=20.9 in /usr/local/lib/python3.11/dist-packages (from huggingface-hub>=0.20.0->sentence_transformers) (24.2)\n",
            "Requirement already satisfied: pyyaml>=5.1 in /usr/local/lib/python3.11/dist-packages (from huggingface-hub>=0.20.0->sentence_transformers) (6.0.2)\n",
            "Requirement already satisfied: requests in /usr/local/lib/python3.11/dist-packages (from huggingface-hub>=0.20.0->sentence_transformers) (2.32.3)\n",
            "Requirement already satisfied: networkx in /usr/local/lib/python3.11/dist-packages (from torch>=1.11.0->sentence_transformers) (3.4.2)\n",
            "Requirement already satisfied: jinja2 in /usr/local/lib/python3.11/dist-packages (from torch>=1.11.0->sentence_transformers) (3.1.6)\n",
            "Requirement already satisfied: nvidia-cuda-nvrtc-cu12==12.4.127 in /usr/local/lib/python3.11/dist-packages (from torch>=1.11.0->sentence_transformers) (12.4.127)\n",
            "Requirement already satisfied: nvidia-cuda-runtime-cu12==12.4.127 in /usr/local/lib/python3.11/dist-packages (from torch>=1.11.0->sentence_transformers) (12.4.127)\n",
            "Requirement already satisfied: nvidia-cuda-cupti-cu12==12.4.127 in /usr/local/lib/python3.11/dist-packages (from torch>=1.11.0->sentence_transformers) (12.4.127)\n",
            "Requirement already satisfied: nvidia-cudnn-cu12==9.1.0.70 in /usr/local/lib/python3.11/dist-packages (from torch>=1.11.0->sentence_transformers) (9.1.0.70)\n",
            "Requirement already satisfied: nvidia-cublas-cu12==12.4.5.8 in /usr/local/lib/python3.11/dist-packages (from torch>=1.11.0->sentence_transformers) (12.4.5.8)\n",
            "Requirement already satisfied: nvidia-cufft-cu12==11.2.1.3 in /usr/local/lib/python3.11/dist-packages (from torch>=1.11.0->sentence_transformers) (11.2.1.3)\n",
            "Requirement already satisfied: nvidia-curand-cu12==10.3.5.147 in /usr/local/lib/python3.11/dist-packages (from torch>=1.11.0->sentence_transformers) (10.3.5.147)\n",
            "Requirement already satisfied: nvidia-cusolver-cu12==11.6.1.9 in /usr/local/lib/python3.11/dist-packages (from torch>=1.11.0->sentence_transformers) (11.6.1.9)\n",
            "Requirement already satisfied: nvidia-cusparse-cu12==12.3.1.170 in /usr/local/lib/python3.11/dist-packages (from torch>=1.11.0->sentence_transformers) (12.3.1.170)\n",
            "Requirement already satisfied: nvidia-cusparselt-cu12==0.6.2 in /usr/local/lib/python3.11/dist-packages (from torch>=1.11.0->sentence_transformers) (0.6.2)\n",
            "Requirement already satisfied: nvidia-nccl-cu12==2.21.5 in /usr/local/lib/python3.11/dist-packages (from torch>=1.11.0->sentence_transformers) (2.21.5)\n",
            "Requirement already satisfied: nvidia-nvtx-cu12==12.4.127 in /usr/local/lib/python3.11/dist-packages (from torch>=1.11.0->sentence_transformers) (12.4.127)\n",
            "Requirement already satisfied: nvidia-nvjitlink-cu12==12.4.127 in /usr/local/lib/python3.11/dist-packages (from torch>=1.11.0->sentence_transformers) (12.4.127)\n",
            "Requirement already satisfied: triton==3.2.0 in /usr/local/lib/python3.11/dist-packages (from torch>=1.11.0->sentence_transformers) (3.2.0)\n",
            "Requirement already satisfied: sympy==1.13.1 in /usr/local/lib/python3.11/dist-packages (from torch>=1.11.0->sentence_transformers) (1.13.1)\n",
            "Requirement already satisfied: mpmath<1.4,>=1.1.0 in /usr/local/lib/python3.11/dist-packages (from sympy==1.13.1->torch>=1.11.0->sentence_transformers) (1.3.0)\n",
            "Requirement already satisfied: numpy>=1.17 in /usr/local/lib/python3.11/dist-packages (from transformers<5.0.0,>=4.41.0->sentence_transformers) (2.0.2)\n",
            "Requirement already satisfied: regex!=2019.12.17 in /usr/local/lib/python3.11/dist-packages (from transformers<5.0.0,>=4.41.0->sentence_transformers) (2024.11.6)\n",
            "Requirement already satisfied: tokenizers<0.22,>=0.21 in /usr/local/lib/python3.11/dist-packages (from transformers<5.0.0,>=4.41.0->sentence_transformers) (0.21.1)\n",
            "Requirement already satisfied: safetensors>=0.4.3 in /usr/local/lib/python3.11/dist-packages (from transformers<5.0.0,>=4.41.0->sentence_transformers) (0.5.3)\n",
            "Requirement already satisfied: joblib>=1.2.0 in /usr/local/lib/python3.11/dist-packages (from scikit-learn->sentence_transformers) (1.4.2)\n",
            "Requirement already satisfied: threadpoolctl>=3.1.0 in /usr/local/lib/python3.11/dist-packages (from scikit-learn->sentence_transformers) (3.6.0)\n",
            "Requirement already satisfied: MarkupSafe>=2.0 in /usr/local/lib/python3.11/dist-packages (from jinja2->torch>=1.11.0->sentence_transformers) (3.0.2)\n",
            "Requirement already satisfied: charset-normalizer<4,>=2 in /usr/local/lib/python3.11/dist-packages (from requests->huggingface-hub>=0.20.0->sentence_transformers) (3.4.1)\n",
            "Requirement already satisfied: idna<4,>=2.5 in /usr/local/lib/python3.11/dist-packages (from requests->huggingface-hub>=0.20.0->sentence_transformers) (3.10)\n",
            "Requirement already satisfied: urllib3<3,>=1.21.1 in /usr/local/lib/python3.11/dist-packages (from requests->huggingface-hub>=0.20.0->sentence_transformers) (2.3.0)\n",
            "Requirement already satisfied: certifi>=2017.4.17 in /usr/local/lib/python3.11/dist-packages (from requests->huggingface-hub>=0.20.0->sentence_transformers) (2025.1.31)\n",
            "Downloading sentence_transformers-4.0.2-py3-none-any.whl (340 kB)\n",
            "\u001b[2K   \u001b[90m━━━━━━━━━━━━━━━━━━━━━━━━━━━━━━━━━━━━━━━━\u001b[0m \u001b[32m340.6/340.6 kB\u001b[0m \u001b[31m5.7 MB/s\u001b[0m eta \u001b[36m0:00:00\u001b[0m\n",
            "\u001b[?25hInstalling collected packages: sentence_transformers\n",
            "  Attempting uninstall: sentence_transformers\n",
            "    Found existing installation: sentence-transformers 3.4.1\n",
            "    Uninstalling sentence-transformers-3.4.1:\n",
            "      Successfully uninstalled sentence-transformers-3.4.1\n",
            "Successfully installed sentence_transformers-4.0.2\n"
          ]
        }
      ],
      "source": [
        "# https://www.marqo.ai/course/training-fine-tuning-sentence-transformers\n",
        "!pip install transformers[torch] accelerate -U\n",
        "!pip install -U datasets\n",
        "!pip install -U sentence_transformers"
      ]
    },
    {
      "cell_type": "code",
      "execution_count": null,
      "metadata": {
        "colab": {
          "base_uri": "https://localhost:8080/"
        },
        "id": "ttccf9rSCEOA",
        "outputId": "e3953d07-a3bd-4588-f197-cc6517a7043c"
      },
      "outputs": [
        {
          "name": "stdout",
          "output_type": "stream",
          "text": [
            "Mounted at /content/drive\n"
          ]
        }
      ],
      "source": [
        "import re\n",
        "import pandas as pd\n",
        "import numpy as np\n",
        "import matplotlib.pyplot as plt\n",
        "from sklearn.preprocessing import MinMaxScaler\n",
        "\n",
        "from google.colab import drive\n",
        "drive.mount('/content/drive', force_remount=True)"
      ]
    },
    {
      "cell_type": "code",
      "execution_count": null,
      "metadata": {
        "colab": {
          "base_uri": "https://localhost:8080/"
        },
        "id": "Fz56vOZODQkU",
        "outputId": "8a56968d-d255-4308-bd81-eb1201cf6990"
      },
      "outputs": [
        {
          "name": "stdout",
          "output_type": "stream",
          "text": [
            "2\t\t     recipes.csv      reviews.csv\n",
            "cleaned_recipes.csv  recipes.parquet  reviews.parquet\n"
          ]
        }
      ],
      "source": [
        "# Listing files in data\n",
        "!ls /content/drive/MyDrive/kaggle_recipe_data/"
      ]
    },
    {
      "cell_type": "code",
      "execution_count": null,
      "metadata": {
        "colab": {
          "base_uri": "https://localhost:8080/",
          "height": 1000
        },
        "id": "gkRRtXddeKVg",
        "outputId": "6c2125a3-cf5d-4754-d977-c34fa01bd2ea"
      },
      "outputs": [
        {
          "data": {
            "application/vnd.google.colaboratory.intrinsic+json": {
              "type": "dataframe",
              "variable_name": "a"
            },
            "text/html": [
              "\n",
              "  <div id=\"df-0e463beb-df38-4e5e-84f7-76d6db1042a3\" class=\"colab-df-container\">\n",
              "    <div>\n",
              "<style scoped>\n",
              "    .dataframe tbody tr th:only-of-type {\n",
              "        vertical-align: middle;\n",
              "    }\n",
              "\n",
              "    .dataframe tbody tr th {\n",
              "        vertical-align: top;\n",
              "    }\n",
              "\n",
              "    .dataframe thead th {\n",
              "        text-align: right;\n",
              "    }\n",
              "</style>\n",
              "<table border=\"1\" class=\"dataframe\">\n",
              "  <thead>\n",
              "    <tr style=\"text-align: right;\">\n",
              "      <th></th>\n",
              "      <th>RecipeId</th>\n",
              "      <th>Name</th>\n",
              "      <th>TotalTime</th>\n",
              "      <th>Description</th>\n",
              "      <th>RecipeIngredientParts</th>\n",
              "      <th>AggregatedRating</th>\n",
              "      <th>ReviewCount</th>\n",
              "      <th>Calories</th>\n",
              "      <th>FatContent</th>\n",
              "      <th>SaturatedFatContent</th>\n",
              "      <th>CholesterolContent</th>\n",
              "      <th>SodiumContent</th>\n",
              "      <th>CarbohydrateContent</th>\n",
              "      <th>FiberContent</th>\n",
              "      <th>SugarContent</th>\n",
              "      <th>ProteinContent</th>\n",
              "      <th>RecipeServings</th>\n",
              "      <th>RecipeInstructions</th>\n",
              "    </tr>\n",
              "  </thead>\n",
              "  <tbody>\n",
              "    <tr>\n",
              "      <th>0</th>\n",
              "      <td>38</td>\n",
              "      <td>Low-Fat Berry Blue Frozen Dessert</td>\n",
              "      <td>1485</td>\n",
              "      <td>Make and share this Low-Fat Berry Blue Frozen ...</td>\n",
              "      <td>['blueberries (4)', 'granulated sugar (0.25)',...</td>\n",
              "      <td>4.5</td>\n",
              "      <td>4.0</td>\n",
              "      <td>170.9</td>\n",
              "      <td>2.5</td>\n",
              "      <td>1.3</td>\n",
              "      <td>8.0</td>\n",
              "      <td>29.8</td>\n",
              "      <td>37.1</td>\n",
              "      <td>3.6</td>\n",
              "      <td>30.2</td>\n",
              "      <td>3.2</td>\n",
              "      <td>4.0</td>\n",
              "      <td>Toss 2 cups berries with sugar. Let stand for ...</td>\n",
              "    </tr>\n",
              "    <tr>\n",
              "      <th>1</th>\n",
              "      <td>40</td>\n",
              "      <td>Best Lemonade</td>\n",
              "      <td>35</td>\n",
              "      <td>This is from one of my  first Good House Keepi...</td>\n",
              "      <td>['sugar', 'lemons, rind of', 'lemon, zest of',...</td>\n",
              "      <td>4.5</td>\n",
              "      <td>10.0</td>\n",
              "      <td>311.1</td>\n",
              "      <td>0.2</td>\n",
              "      <td>0.0</td>\n",
              "      <td>0.0</td>\n",
              "      <td>1.8</td>\n",
              "      <td>81.5</td>\n",
              "      <td>0.4</td>\n",
              "      <td>77.2</td>\n",
              "      <td>0.3</td>\n",
              "      <td>4.0</td>\n",
              "      <td>Into a 1 quart Jar with tight fitting lid, put...</td>\n",
              "    </tr>\n",
              "    <tr>\n",
              "      <th>2</th>\n",
              "      <td>41</td>\n",
              "      <td>Carina's Tofu-Vegetable Kebabs</td>\n",
              "      <td>1460</td>\n",
              "      <td>This dish is best prepared a day in advance to...</td>\n",
              "      <td>['extra firm tofu', 'eggplant', 'zucchini', 'm...</td>\n",
              "      <td>4.5</td>\n",
              "      <td>2.0</td>\n",
              "      <td>536.1</td>\n",
              "      <td>24.0</td>\n",
              "      <td>3.8</td>\n",
              "      <td>0.0</td>\n",
              "      <td>1558.6</td>\n",
              "      <td>64.2</td>\n",
              "      <td>17.3</td>\n",
              "      <td>32.1</td>\n",
              "      <td>29.3</td>\n",
              "      <td>2.0</td>\n",
              "      <td>Drain the tofu, carefully squeezing out excess...</td>\n",
              "    </tr>\n",
              "    <tr>\n",
              "      <th>3</th>\n",
              "      <td>42</td>\n",
              "      <td>Cabbage Soup</td>\n",
              "      <td>50</td>\n",
              "      <td>Make and share this Cabbage Soup recipe from F...</td>\n",
              "      <td>['plain tomato juice (46)', 'cabbage (4)', 'on...</td>\n",
              "      <td>4.5</td>\n",
              "      <td>11.0</td>\n",
              "      <td>103.6</td>\n",
              "      <td>0.4</td>\n",
              "      <td>0.1</td>\n",
              "      <td>0.0</td>\n",
              "      <td>959.3</td>\n",
              "      <td>25.1</td>\n",
              "      <td>4.8</td>\n",
              "      <td>17.7</td>\n",
              "      <td>4.3</td>\n",
              "      <td>4.0</td>\n",
              "      <td>Mix everything together and bring to a boil. R...</td>\n",
              "    </tr>\n",
              "    <tr>\n",
              "      <th>4</th>\n",
              "      <td>44</td>\n",
              "      <td>Warm Chicken A La King</td>\n",
              "      <td>38</td>\n",
              "      <td>I copied this one out of a friend's book so ma...</td>\n",
              "      <td>['chicken', 'butter', 'flour', 'milk', 'celery...</td>\n",
              "      <td>5.0</td>\n",
              "      <td>23.0</td>\n",
              "      <td>895.5</td>\n",
              "      <td>66.8</td>\n",
              "      <td>31.9</td>\n",
              "      <td>405.8</td>\n",
              "      <td>557.2</td>\n",
              "      <td>29.1</td>\n",
              "      <td>3.1</td>\n",
              "      <td>5.0</td>\n",
              "      <td>45.3</td>\n",
              "      <td>2.0</td>\n",
              "      <td>Melt 1 1/2 ozs butter, add the flour and cook ...</td>\n",
              "    </tr>\n",
              "    <tr>\n",
              "      <th>...</th>\n",
              "      <td>...</td>\n",
              "      <td>...</td>\n",
              "      <td>...</td>\n",
              "      <td>...</td>\n",
              "      <td>...</td>\n",
              "      <td>...</td>\n",
              "      <td>...</td>\n",
              "      <td>...</td>\n",
              "      <td>...</td>\n",
              "      <td>...</td>\n",
              "      <td>...</td>\n",
              "      <td>...</td>\n",
              "      <td>...</td>\n",
              "      <td>...</td>\n",
              "      <td>...</td>\n",
              "      <td>...</td>\n",
              "      <td>...</td>\n",
              "      <td>...</td>\n",
              "    </tr>\n",
              "    <tr>\n",
              "      <th>167624</th>\n",
              "      <td>539399</td>\n",
              "      <td>Instant Pot Green Bean Casserole</td>\n",
              "      <td>20</td>\n",
              "      <td>Homemade green bean casserole without having t...</td>\n",
              "      <td>['butter', 'yellow onion', 'mushroom', 'garlic...</td>\n",
              "      <td>5.0</td>\n",
              "      <td>2.0</td>\n",
              "      <td>210.9</td>\n",
              "      <td>16.6</td>\n",
              "      <td>9.8</td>\n",
              "      <td>53.0</td>\n",
              "      <td>352.1</td>\n",
              "      <td>12.9</td>\n",
              "      <td>3.1</td>\n",
              "      <td>5.0</td>\n",
              "      <td>5.6</td>\n",
              "      <td>NaN</td>\n",
              "      <td>Set a 6-quart or larger Instant Pot to sauté w...</td>\n",
              "    </tr>\n",
              "    <tr>\n",
              "      <th>167625</th>\n",
              "      <td>539604</td>\n",
              "      <td>Instant Pot Collard Greens &amp;amp; Black-Eyed Peas</td>\n",
              "      <td>35</td>\n",
              "      <td>A great side dish that pairs well with so many...</td>\n",
              "      <td>['olive oil', 'yellow onion', 'garlic cloves',...</td>\n",
              "      <td>3.0</td>\n",
              "      <td>2.0</td>\n",
              "      <td>138.8</td>\n",
              "      <td>3.0</td>\n",
              "      <td>0.6</td>\n",
              "      <td>1.8</td>\n",
              "      <td>396.6</td>\n",
              "      <td>20.9</td>\n",
              "      <td>5.2</td>\n",
              "      <td>3.2</td>\n",
              "      <td>8.7</td>\n",
              "      <td>8.0</td>\n",
              "      <td>Set a 6-quart or larger Instant Pot to sauté. ...</td>\n",
              "    </tr>\n",
              "    <tr>\n",
              "      <th>167626</th>\n",
              "      <td>540263</td>\n",
              "      <td>Ho Chi Minh Limeade</td>\n",
              "      <td>5</td>\n",
              "      <td>A refreshing alternative to Vietnamese coffee,...</td>\n",
              "      <td>['lime, juice of', 'sweetened condensed milk',...</td>\n",
              "      <td>5.0</td>\n",
              "      <td>3.0</td>\n",
              "      <td>256.6</td>\n",
              "      <td>6.7</td>\n",
              "      <td>4.2</td>\n",
              "      <td>26.0</td>\n",
              "      <td>110.5</td>\n",
              "      <td>45.3</td>\n",
              "      <td>0.2</td>\n",
              "      <td>42.4</td>\n",
              "      <td>6.2</td>\n",
              "      <td>1.0</td>\n",
              "      <td>In a highball glass, combine all the ingredien...</td>\n",
              "    </tr>\n",
              "    <tr>\n",
              "      <th>167627</th>\n",
              "      <td>540370</td>\n",
              "      <td>Call Me a Cab (Lemonade Vodka Wine Cocktail)</td>\n",
              "      <td>5</td>\n",
              "      <td>This is a lovely summertime cocktail that is n...</td>\n",
              "      <td>['vodka']</td>\n",
              "      <td>5.0</td>\n",
              "      <td>3.0</td>\n",
              "      <td>68.0</td>\n",
              "      <td>0.1</td>\n",
              "      <td>0.0</td>\n",
              "      <td>0.0</td>\n",
              "      <td>6.8</td>\n",
              "      <td>17.7</td>\n",
              "      <td>0.0</td>\n",
              "      <td>17.0</td>\n",
              "      <td>0.1</td>\n",
              "      <td>1.0</td>\n",
              "      <td>Place ice in your desired cocktail glass. Pour...</td>\n",
              "    </tr>\n",
              "    <tr>\n",
              "      <th>167628</th>\n",
              "      <td>540716</td>\n",
              "      <td>Cantaloupe Margarita</td>\n",
              "      <td>10</td>\n",
              "      <td>I've been trying all kinds of margaritas this ...</td>\n",
              "      <td>['cantaloupe', 'lime juice', 'sugar', 'coarse ...</td>\n",
              "      <td>5.0</td>\n",
              "      <td>2.0</td>\n",
              "      <td>165.1</td>\n",
              "      <td>0.6</td>\n",
              "      <td>0.2</td>\n",
              "      <td>0.0</td>\n",
              "      <td>7028.4</td>\n",
              "      <td>41.3</td>\n",
              "      <td>3.0</td>\n",
              "      <td>38.2</td>\n",
              "      <td>2.8</td>\n",
              "      <td>2.0</td>\n",
              "      <td>In a blender or food processor, blend the cant...</td>\n",
              "    </tr>\n",
              "  </tbody>\n",
              "</table>\n",
              "<p>167629 rows × 18 columns</p>\n",
              "</div>\n",
              "    <div class=\"colab-df-buttons\">\n",
              "\n",
              "  <div class=\"colab-df-container\">\n",
              "    <button class=\"colab-df-convert\" onclick=\"convertToInteractive('df-0e463beb-df38-4e5e-84f7-76d6db1042a3')\"\n",
              "            title=\"Convert this dataframe to an interactive table.\"\n",
              "            style=\"display:none;\">\n",
              "\n",
              "  <svg xmlns=\"http://www.w3.org/2000/svg\" height=\"24px\" viewBox=\"0 -960 960 960\">\n",
              "    <path d=\"M120-120v-720h720v720H120Zm60-500h600v-160H180v160Zm220 220h160v-160H400v160Zm0 220h160v-160H400v160ZM180-400h160v-160H180v160Zm440 0h160v-160H620v160ZM180-180h160v-160H180v160Zm440 0h160v-160H620v160Z\"/>\n",
              "  </svg>\n",
              "    </button>\n",
              "\n",
              "  <style>\n",
              "    .colab-df-container {\n",
              "      display:flex;\n",
              "      gap: 12px;\n",
              "    }\n",
              "\n",
              "    .colab-df-convert {\n",
              "      background-color: #E8F0FE;\n",
              "      border: none;\n",
              "      border-radius: 50%;\n",
              "      cursor: pointer;\n",
              "      display: none;\n",
              "      fill: #1967D2;\n",
              "      height: 32px;\n",
              "      padding: 0 0 0 0;\n",
              "      width: 32px;\n",
              "    }\n",
              "\n",
              "    .colab-df-convert:hover {\n",
              "      background-color: #E2EBFA;\n",
              "      box-shadow: 0px 1px 2px rgba(60, 64, 67, 0.3), 0px 1px 3px 1px rgba(60, 64, 67, 0.15);\n",
              "      fill: #174EA6;\n",
              "    }\n",
              "\n",
              "    .colab-df-buttons div {\n",
              "      margin-bottom: 4px;\n",
              "    }\n",
              "\n",
              "    [theme=dark] .colab-df-convert {\n",
              "      background-color: #3B4455;\n",
              "      fill: #D2E3FC;\n",
              "    }\n",
              "\n",
              "    [theme=dark] .colab-df-convert:hover {\n",
              "      background-color: #434B5C;\n",
              "      box-shadow: 0px 1px 3px 1px rgba(0, 0, 0, 0.15);\n",
              "      filter: drop-shadow(0px 1px 2px rgba(0, 0, 0, 0.3));\n",
              "      fill: #FFFFFF;\n",
              "    }\n",
              "  </style>\n",
              "\n",
              "    <script>\n",
              "      const buttonEl =\n",
              "        document.querySelector('#df-0e463beb-df38-4e5e-84f7-76d6db1042a3 button.colab-df-convert');\n",
              "      buttonEl.style.display =\n",
              "        google.colab.kernel.accessAllowed ? 'block' : 'none';\n",
              "\n",
              "      async function convertToInteractive(key) {\n",
              "        const element = document.querySelector('#df-0e463beb-df38-4e5e-84f7-76d6db1042a3');\n",
              "        const dataTable =\n",
              "          await google.colab.kernel.invokeFunction('convertToInteractive',\n",
              "                                                    [key], {});\n",
              "        if (!dataTable) return;\n",
              "\n",
              "        const docLinkHtml = 'Like what you see? Visit the ' +\n",
              "          '<a target=\"_blank\" href=https://colab.research.google.com/notebooks/data_table.ipynb>data table notebook</a>'\n",
              "          + ' to learn more about interactive tables.';\n",
              "        element.innerHTML = '';\n",
              "        dataTable['output_type'] = 'display_data';\n",
              "        await google.colab.output.renderOutput(dataTable, element);\n",
              "        const docLink = document.createElement('div');\n",
              "        docLink.innerHTML = docLinkHtml;\n",
              "        element.appendChild(docLink);\n",
              "      }\n",
              "    </script>\n",
              "  </div>\n",
              "\n",
              "\n",
              "<div id=\"df-00db5d15-22e4-43b2-b351-f895382f8392\">\n",
              "  <button class=\"colab-df-quickchart\" onclick=\"quickchart('df-00db5d15-22e4-43b2-b351-f895382f8392')\"\n",
              "            title=\"Suggest charts\"\n",
              "            style=\"display:none;\">\n",
              "\n",
              "<svg xmlns=\"http://www.w3.org/2000/svg\" height=\"24px\"viewBox=\"0 0 24 24\"\n",
              "     width=\"24px\">\n",
              "    <g>\n",
              "        <path d=\"M19 3H5c-1.1 0-2 .9-2 2v14c0 1.1.9 2 2 2h14c1.1 0 2-.9 2-2V5c0-1.1-.9-2-2-2zM9 17H7v-7h2v7zm4 0h-2V7h2v10zm4 0h-2v-4h2v4z\"/>\n",
              "    </g>\n",
              "</svg>\n",
              "  </button>\n",
              "\n",
              "<style>\n",
              "  .colab-df-quickchart {\n",
              "      --bg-color: #E8F0FE;\n",
              "      --fill-color: #1967D2;\n",
              "      --hover-bg-color: #E2EBFA;\n",
              "      --hover-fill-color: #174EA6;\n",
              "      --disabled-fill-color: #AAA;\n",
              "      --disabled-bg-color: #DDD;\n",
              "  }\n",
              "\n",
              "  [theme=dark] .colab-df-quickchart {\n",
              "      --bg-color: #3B4455;\n",
              "      --fill-color: #D2E3FC;\n",
              "      --hover-bg-color: #434B5C;\n",
              "      --hover-fill-color: #FFFFFF;\n",
              "      --disabled-bg-color: #3B4455;\n",
              "      --disabled-fill-color: #666;\n",
              "  }\n",
              "\n",
              "  .colab-df-quickchart {\n",
              "    background-color: var(--bg-color);\n",
              "    border: none;\n",
              "    border-radius: 50%;\n",
              "    cursor: pointer;\n",
              "    display: none;\n",
              "    fill: var(--fill-color);\n",
              "    height: 32px;\n",
              "    padding: 0;\n",
              "    width: 32px;\n",
              "  }\n",
              "\n",
              "  .colab-df-quickchart:hover {\n",
              "    background-color: var(--hover-bg-color);\n",
              "    box-shadow: 0 1px 2px rgba(60, 64, 67, 0.3), 0 1px 3px 1px rgba(60, 64, 67, 0.15);\n",
              "    fill: var(--button-hover-fill-color);\n",
              "  }\n",
              "\n",
              "  .colab-df-quickchart-complete:disabled,\n",
              "  .colab-df-quickchart-complete:disabled:hover {\n",
              "    background-color: var(--disabled-bg-color);\n",
              "    fill: var(--disabled-fill-color);\n",
              "    box-shadow: none;\n",
              "  }\n",
              "\n",
              "  .colab-df-spinner {\n",
              "    border: 2px solid var(--fill-color);\n",
              "    border-color: transparent;\n",
              "    border-bottom-color: var(--fill-color);\n",
              "    animation:\n",
              "      spin 1s steps(1) infinite;\n",
              "  }\n",
              "\n",
              "  @keyframes spin {\n",
              "    0% {\n",
              "      border-color: transparent;\n",
              "      border-bottom-color: var(--fill-color);\n",
              "      border-left-color: var(--fill-color);\n",
              "    }\n",
              "    20% {\n",
              "      border-color: transparent;\n",
              "      border-left-color: var(--fill-color);\n",
              "      border-top-color: var(--fill-color);\n",
              "    }\n",
              "    30% {\n",
              "      border-color: transparent;\n",
              "      border-left-color: var(--fill-color);\n",
              "      border-top-color: var(--fill-color);\n",
              "      border-right-color: var(--fill-color);\n",
              "    }\n",
              "    40% {\n",
              "      border-color: transparent;\n",
              "      border-right-color: var(--fill-color);\n",
              "      border-top-color: var(--fill-color);\n",
              "    }\n",
              "    60% {\n",
              "      border-color: transparent;\n",
              "      border-right-color: var(--fill-color);\n",
              "    }\n",
              "    80% {\n",
              "      border-color: transparent;\n",
              "      border-right-color: var(--fill-color);\n",
              "      border-bottom-color: var(--fill-color);\n",
              "    }\n",
              "    90% {\n",
              "      border-color: transparent;\n",
              "      border-bottom-color: var(--fill-color);\n",
              "    }\n",
              "  }\n",
              "</style>\n",
              "\n",
              "  <script>\n",
              "    async function quickchart(key) {\n",
              "      const quickchartButtonEl =\n",
              "        document.querySelector('#' + key + ' button');\n",
              "      quickchartButtonEl.disabled = true;  // To prevent multiple clicks.\n",
              "      quickchartButtonEl.classList.add('colab-df-spinner');\n",
              "      try {\n",
              "        const charts = await google.colab.kernel.invokeFunction(\n",
              "            'suggestCharts', [key], {});\n",
              "      } catch (error) {\n",
              "        console.error('Error during call to suggestCharts:', error);\n",
              "      }\n",
              "      quickchartButtonEl.classList.remove('colab-df-spinner');\n",
              "      quickchartButtonEl.classList.add('colab-df-quickchart-complete');\n",
              "    }\n",
              "    (() => {\n",
              "      let quickchartButtonEl =\n",
              "        document.querySelector('#df-00db5d15-22e4-43b2-b351-f895382f8392 button');\n",
              "      quickchartButtonEl.style.display =\n",
              "        google.colab.kernel.accessAllowed ? 'block' : 'none';\n",
              "    })();\n",
              "  </script>\n",
              "</div>\n",
              "\n",
              "  <div id=\"id_67020a48-6e11-4a48-89d1-a78939caed57\">\n",
              "    <style>\n",
              "      .colab-df-generate {\n",
              "        background-color: #E8F0FE;\n",
              "        border: none;\n",
              "        border-radius: 50%;\n",
              "        cursor: pointer;\n",
              "        display: none;\n",
              "        fill: #1967D2;\n",
              "        height: 32px;\n",
              "        padding: 0 0 0 0;\n",
              "        width: 32px;\n",
              "      }\n",
              "\n",
              "      .colab-df-generate:hover {\n",
              "        background-color: #E2EBFA;\n",
              "        box-shadow: 0px 1px 2px rgba(60, 64, 67, 0.3), 0px 1px 3px 1px rgba(60, 64, 67, 0.15);\n",
              "        fill: #174EA6;\n",
              "      }\n",
              "\n",
              "      [theme=dark] .colab-df-generate {\n",
              "        background-color: #3B4455;\n",
              "        fill: #D2E3FC;\n",
              "      }\n",
              "\n",
              "      [theme=dark] .colab-df-generate:hover {\n",
              "        background-color: #434B5C;\n",
              "        box-shadow: 0px 1px 3px 1px rgba(0, 0, 0, 0.15);\n",
              "        filter: drop-shadow(0px 1px 2px rgba(0, 0, 0, 0.3));\n",
              "        fill: #FFFFFF;\n",
              "      }\n",
              "    </style>\n",
              "    <button class=\"colab-df-generate\" onclick=\"generateWithVariable('a')\"\n",
              "            title=\"Generate code using this dataframe.\"\n",
              "            style=\"display:none;\">\n",
              "\n",
              "  <svg xmlns=\"http://www.w3.org/2000/svg\" height=\"24px\"viewBox=\"0 0 24 24\"\n",
              "       width=\"24px\">\n",
              "    <path d=\"M7,19H8.4L18.45,9,17,7.55,7,17.6ZM5,21V16.75L18.45,3.32a2,2,0,0,1,2.83,0l1.4,1.43a1.91,1.91,0,0,1,.58,1.4,1.91,1.91,0,0,1-.58,1.4L9.25,21ZM18.45,9,17,7.55Zm-12,3A5.31,5.31,0,0,0,4.9,8.1,5.31,5.31,0,0,0,1,6.5,5.31,5.31,0,0,0,4.9,4.9,5.31,5.31,0,0,0,6.5,1,5.31,5.31,0,0,0,8.1,4.9,5.31,5.31,0,0,0,12,6.5,5.46,5.46,0,0,0,6.5,12Z\"/>\n",
              "  </svg>\n",
              "    </button>\n",
              "    <script>\n",
              "      (() => {\n",
              "      const buttonEl =\n",
              "        document.querySelector('#id_67020a48-6e11-4a48-89d1-a78939caed57 button.colab-df-generate');\n",
              "      buttonEl.style.display =\n",
              "        google.colab.kernel.accessAllowed ? 'block' : 'none';\n",
              "\n",
              "      buttonEl.onclick = () => {\n",
              "        google.colab.notebook.generateWithVariable('a');\n",
              "      }\n",
              "      })();\n",
              "    </script>\n",
              "  </div>\n",
              "\n",
              "    </div>\n",
              "  </div>\n"
            ],
            "text/plain": [
              "        RecipeId                                              Name  TotalTime  \\\n",
              "0             38                 Low-Fat Berry Blue Frozen Dessert       1485   \n",
              "1             40                                     Best Lemonade         35   \n",
              "2             41                    Carina's Tofu-Vegetable Kebabs       1460   \n",
              "3             42                                      Cabbage Soup         50   \n",
              "4             44                            Warm Chicken A La King         38   \n",
              "...          ...                                               ...        ...   \n",
              "167624    539399                  Instant Pot Green Bean Casserole         20   \n",
              "167625    539604  Instant Pot Collard Greens &amp; Black-Eyed Peas         35   \n",
              "167626    540263                               Ho Chi Minh Limeade          5   \n",
              "167627    540370      Call Me a Cab (Lemonade Vodka Wine Cocktail)          5   \n",
              "167628    540716                              Cantaloupe Margarita         10   \n",
              "\n",
              "                                              Description  \\\n",
              "0       Make and share this Low-Fat Berry Blue Frozen ...   \n",
              "1       This is from one of my  first Good House Keepi...   \n",
              "2       This dish is best prepared a day in advance to...   \n",
              "3       Make and share this Cabbage Soup recipe from F...   \n",
              "4       I copied this one out of a friend's book so ma...   \n",
              "...                                                   ...   \n",
              "167624  Homemade green bean casserole without having t...   \n",
              "167625  A great side dish that pairs well with so many...   \n",
              "167626  A refreshing alternative to Vietnamese coffee,...   \n",
              "167627  This is a lovely summertime cocktail that is n...   \n",
              "167628  I've been trying all kinds of margaritas this ...   \n",
              "\n",
              "                                    RecipeIngredientParts  AggregatedRating  \\\n",
              "0       ['blueberries (4)', 'granulated sugar (0.25)',...               4.5   \n",
              "1       ['sugar', 'lemons, rind of', 'lemon, zest of',...               4.5   \n",
              "2       ['extra firm tofu', 'eggplant', 'zucchini', 'm...               4.5   \n",
              "3       ['plain tomato juice (46)', 'cabbage (4)', 'on...               4.5   \n",
              "4       ['chicken', 'butter', 'flour', 'milk', 'celery...               5.0   \n",
              "...                                                   ...               ...   \n",
              "167624  ['butter', 'yellow onion', 'mushroom', 'garlic...               5.0   \n",
              "167625  ['olive oil', 'yellow onion', 'garlic cloves',...               3.0   \n",
              "167626  ['lime, juice of', 'sweetened condensed milk',...               5.0   \n",
              "167627                                          ['vodka']               5.0   \n",
              "167628  ['cantaloupe', 'lime juice', 'sugar', 'coarse ...               5.0   \n",
              "\n",
              "        ReviewCount  Calories  FatContent  SaturatedFatContent  \\\n",
              "0               4.0     170.9         2.5                  1.3   \n",
              "1              10.0     311.1         0.2                  0.0   \n",
              "2               2.0     536.1        24.0                  3.8   \n",
              "3              11.0     103.6         0.4                  0.1   \n",
              "4              23.0     895.5        66.8                 31.9   \n",
              "...             ...       ...         ...                  ...   \n",
              "167624          2.0     210.9        16.6                  9.8   \n",
              "167625          2.0     138.8         3.0                  0.6   \n",
              "167626          3.0     256.6         6.7                  4.2   \n",
              "167627          3.0      68.0         0.1                  0.0   \n",
              "167628          2.0     165.1         0.6                  0.2   \n",
              "\n",
              "        CholesterolContent  SodiumContent  CarbohydrateContent  FiberContent  \\\n",
              "0                      8.0           29.8                 37.1           3.6   \n",
              "1                      0.0            1.8                 81.5           0.4   \n",
              "2                      0.0         1558.6                 64.2          17.3   \n",
              "3                      0.0          959.3                 25.1           4.8   \n",
              "4                    405.8          557.2                 29.1           3.1   \n",
              "...                    ...            ...                  ...           ...   \n",
              "167624                53.0          352.1                 12.9           3.1   \n",
              "167625                 1.8          396.6                 20.9           5.2   \n",
              "167626                26.0          110.5                 45.3           0.2   \n",
              "167627                 0.0            6.8                 17.7           0.0   \n",
              "167628                 0.0         7028.4                 41.3           3.0   \n",
              "\n",
              "        SugarContent  ProteinContent  RecipeServings  \\\n",
              "0               30.2             3.2             4.0   \n",
              "1               77.2             0.3             4.0   \n",
              "2               32.1            29.3             2.0   \n",
              "3               17.7             4.3             4.0   \n",
              "4                5.0            45.3             2.0   \n",
              "...              ...             ...             ...   \n",
              "167624           5.0             5.6             NaN   \n",
              "167625           3.2             8.7             8.0   \n",
              "167626          42.4             6.2             1.0   \n",
              "167627          17.0             0.1             1.0   \n",
              "167628          38.2             2.8             2.0   \n",
              "\n",
              "                                       RecipeInstructions  \n",
              "0       Toss 2 cups berries with sugar. Let stand for ...  \n",
              "1       Into a 1 quart Jar with tight fitting lid, put...  \n",
              "2       Drain the tofu, carefully squeezing out excess...  \n",
              "3       Mix everything together and bring to a boil. R...  \n",
              "4       Melt 1 1/2 ozs butter, add the flour and cook ...  \n",
              "...                                                   ...  \n",
              "167624  Set a 6-quart or larger Instant Pot to sauté w...  \n",
              "167625  Set a 6-quart or larger Instant Pot to sauté. ...  \n",
              "167626  In a highball glass, combine all the ingredien...  \n",
              "167627  Place ice in your desired cocktail glass. Pour...  \n",
              "167628  In a blender or food processor, blend the cant...  \n",
              "\n",
              "[167629 rows x 18 columns]"
            ]
          },
          "execution_count": 9,
          "metadata": {},
          "output_type": "execute_result"
        }
      ],
      "source": [
        "#################################################################################\n",
        "# If you already cleaned the data then run this and skip the rest of this section\n",
        "a = pd.read_csv(\"/content/drive/MyDrive/kaggle_recipe_data/cleaned_recipes.csv\").drop(\"Unnamed: 0\", axis=1)\n",
        "a\n",
        "#################################################################################"
      ]
    },
    {
      "cell_type": "code",
      "execution_count": null,
      "metadata": {
        "colab": {
          "background_save": true
        },
        "collapsed": true,
        "id": "NWGLN4b5CFx0",
        "outputId": "0d292945-f59c-4775-c051-85aeb30c980a"
      },
      "outputs": [
        {
          "name": "stdout",
          "output_type": "stream",
          "text": [
            "Index(['RecipeId', 'Name', 'AuthorId', 'AuthorName', 'CookTime', 'PrepTime',\n",
            "       'TotalTime', 'DatePublished', 'Description', 'Images', 'RecipeCategory',\n",
            "       'Keywords', 'RecipeIngredientQuantities', 'RecipeIngredientParts',\n",
            "       'AggregatedRating', 'ReviewCount', 'Calories', 'FatContent',\n",
            "       'SaturatedFatContent', 'CholesterolContent', 'SodiumContent',\n",
            "       'CarbohydrateContent', 'FiberContent', 'SugarContent', 'ProteinContent',\n",
            "       'RecipeServings', 'RecipeYield', 'RecipeInstructions'],\n",
            "      dtype='object')\n"
          ]
        }
      ],
      "source": [
        "# This might take a while\n",
        "a = pd.read_csv(\"/content/drive/MyDrive/kaggle_recipe_data/recipes.csv\")\n",
        "print(a.columns)"
      ]
    },
    {
      "cell_type": "code",
      "execution_count": null,
      "metadata": {
        "colab": {
          "background_save": true
        },
        "id": "KCD6tAWi1awb",
        "outputId": "103db50e-f027-4637-c09a-ab2b723d0963"
      },
      "outputs": [
        {
          "data": {
            "text/html": [
              "<div>\n",
              "<style scoped>\n",
              "    .dataframe tbody tr th:only-of-type {\n",
              "        vertical-align: middle;\n",
              "    }\n",
              "\n",
              "    .dataframe tbody tr th {\n",
              "        vertical-align: top;\n",
              "    }\n",
              "\n",
              "    .dataframe thead th {\n",
              "        text-align: right;\n",
              "    }\n",
              "</style>\n",
              "<table border=\"1\" class=\"dataframe\">\n",
              "  <thead>\n",
              "    <tr style=\"text-align: right;\">\n",
              "      <th></th>\n",
              "      <th>Count</th>\n",
              "    </tr>\n",
              "    <tr>\n",
              "      <th>AggregatedRating</th>\n",
              "      <th></th>\n",
              "    </tr>\n",
              "  </thead>\n",
              "  <tbody>\n",
              "    <tr>\n",
              "      <th>1.0</th>\n",
              "      <td>225</td>\n",
              "    </tr>\n",
              "    <tr>\n",
              "      <th>1.5</th>\n",
              "      <td>76</td>\n",
              "    </tr>\n",
              "    <tr>\n",
              "      <th>2.0</th>\n",
              "      <td>328</td>\n",
              "    </tr>\n",
              "    <tr>\n",
              "      <th>2.5</th>\n",
              "      <td>673</td>\n",
              "    </tr>\n",
              "    <tr>\n",
              "      <th>3.0</th>\n",
              "      <td>2755</td>\n",
              "    </tr>\n",
              "    <tr>\n",
              "      <th>3.5</th>\n",
              "      <td>3978</td>\n",
              "    </tr>\n",
              "    <tr>\n",
              "      <th>4.0</th>\n",
              "      <td>16063</td>\n",
              "    </tr>\n",
              "    <tr>\n",
              "      <th>4.5</th>\n",
              "      <td>34330</td>\n",
              "    </tr>\n",
              "    <tr>\n",
              "      <th>5.0</th>\n",
              "      <td>109201</td>\n",
              "    </tr>\n",
              "  </tbody>\n",
              "</table>\n",
              "</div><br><label><b>dtype:</b> int64</label>"
            ],
            "text/plain": [
              "AggregatedRating\n",
              "1.0       225\n",
              "1.5        76\n",
              "2.0       328\n",
              "2.5       673\n",
              "3.0      2755\n",
              "3.5      3978\n",
              "4.0     16063\n",
              "4.5     34330\n",
              "5.0    109201\n",
              "Name: Count, dtype: int64"
            ]
          },
          "execution_count": 11,
          "metadata": {},
          "output_type": "execute_result"
        }
      ],
      "source": [
        "slicer = a[a.ReviewCount > 1]\n",
        "slicer.groupby(\"AggregatedRating\").count().rename(columns={\"RecipeId\": \"Count\"})[\"Count\"]"
      ]
    },
    {
      "cell_type": "code",
      "execution_count": null,
      "metadata": {
        "colab": {
          "background_save": true
        },
        "id": "XSQWe-pQOyE5",
        "outputId": "cc7465d8-40e2-401e-a793-a35c668beb06"
      },
      "outputs": [
        {
          "name": "stdout",
          "output_type": "stream",
          "text": [
            "\n",
            "\n",
            "\n",
            "\n",
            "\n",
            "\n",
            "\n",
            "\n",
            "\n"
          ]
        },
        {
          "data": {
            "image/png": "[encoded data removed]",
            "text/plain": [
              "<Figure size 1200x1200 with 9 Axes>"
            ]
          },
          "metadata": {},
          "output_type": "display_data"
        }
      ],
      "source": [
        "fig, axs = plt.subplots(3, 3, figsize=(12, 12))\n",
        "for i in range(9):\n",
        "  rate = i*0.5+1\n",
        "  slicer = a[a.AggregatedRating == rate]\n",
        "  slicer = slicer[slicer.ReviewCount > 1]\n",
        "\n",
        "  ax = axs[i//3, i%3]\n",
        "  ax.hist(slicer[\"ReviewCount\"], label=str(rate), bins=20)  # Example: vary sine wave\n",
        "  ax.set_title(f\"Rating: {rate}\")\n",
        "  ax.set_xlabel(\"Reviews/Recipe\")\n",
        "  ax.set_ylabel(\"Number of Recipes\")\n",
        "\n",
        "  #print(pred)\n",
        "  print()\n",
        "fig.tight_layout()"
      ]
    },
    {
      "cell_type": "code",
      "execution_count": null,
      "metadata": {
        "colab": {
          "background_save": true
        },
        "id": "Xb0klPLh15zd",
        "outputId": "f78fddba-1b6e-4a99-a55e-549045c686a3"
      },
      "outputs": [
        {
          "ename": "NameError",
          "evalue": "name 'a1' is not defined",
          "output_type": "error",
          "traceback": [
            "\u001b[0;31m---------------------------------------------------------------------------\u001b[0m",
            "\u001b[0;31mNameError\u001b[0m                                 Traceback (most recent call last)",
            "\u001b[0;32m<ipython-input-13-5b2493809b1c>\u001b[0m in \u001b[0;36m<cell line: 0>\u001b[0;34m()\u001b[0m\n\u001b[0;32m----> 1\u001b[0;31m \u001b[0mplt\u001b[0m\u001b[0;34m.\u001b[0m\u001b[0mscatter\u001b[0m\u001b[0;34m(\u001b[0m\u001b[0ma1\u001b[0m\u001b[0;34m.\u001b[0m\u001b[0mAggregatedRating\u001b[0m\u001b[0;34m,\u001b[0m \u001b[0ma1\u001b[0m\u001b[0;34m.\u001b[0m\u001b[0mReviewCount\u001b[0m\u001b[0;34m,\u001b[0m \u001b[0malpha\u001b[0m\u001b[0;34m=\u001b[0m\u001b[0;36m0.005\u001b[0m\u001b[0;34m)\u001b[0m\u001b[0;34m\u001b[0m\u001b[0;34m\u001b[0m\u001b[0m\n\u001b[0m\u001b[1;32m      2\u001b[0m \u001b[0mplt\u001b[0m\u001b[0;34m.\u001b[0m\u001b[0mylim\u001b[0m\u001b[0;34m(\u001b[0m\u001b[0;36m0\u001b[0m\u001b[0;34m,\u001b[0m \u001b[0;36m10\u001b[0m\u001b[0;34m)\u001b[0m\u001b[0;34m\u001b[0m\u001b[0;34m\u001b[0m\u001b[0m\n",
            "\u001b[0;31mNameError\u001b[0m: name 'a1' is not defined"
          ]
        }
      ],
      "source": [
        "plt.scatter(a1.AggregatedRating, a1.ReviewCount, alpha=0.005)\n",
        "plt.ylim(0, 10)"
      ]
    },
    {
      "cell_type": "code",
      "execution_count": null,
      "metadata": {
        "colab": {
          "background_save": true
        },
        "id": "-s94LufGMWLH"
      },
      "outputs": [],
      "source": [
        "plt.hist(a.ReviewCount)\n",
        "#plt.xlabel(\"Rating\")"
      ]
    },
    {
      "cell_type": "code",
      "execution_count": null,
      "metadata": {
        "colab": {
          "background_save": true
        },
        "id": "n1_FKE-x1jcQ"
      },
      "outputs": [],
      "source": [
        "# Percentage of data with single review\n",
        "len(a1[a1.ReviewCount == 1])/ len(a1)"
      ]
    },
    {
      "cell_type": "code",
      "execution_count": null,
      "metadata": {
        "colab": {
          "background_save": true
        },
        "collapsed": true,
        "id": "gK_1VSXXDWw9"
      },
      "outputs": [],
      "source": [
        "# Unused info\n",
        "\n",
        "# a = a.drop([\"AuthorId\", \"AuthorName\", \"DatePublished\", \"Images\"], axis=1)\n",
        "# Due to CookTime/Preptime containing NaNs occasionally they will be removed\n",
        "# a = a.drop([\"CookTime\", \"PrepTime\"], axis=1)\n",
        "\n",
        "\n",
        "# RecipeYield is difficult to categorize: 4 kebabs vs 1 8x8 cake pan\n",
        "#a = a.drop(\"RecipeYield\", axis=1)\n",
        "# Removing Empty data\n",
        "a = a.dropna(subset=[\"AggregatedRating\", \"ReviewCount\"])\n",
        "\n",
        "# Not dropping rows because an empty instructions can contribute to bad ratings.\n",
        "a[\"RecipeInstructions\"] = a[\"RecipeInstructions\"].fillna('')\n",
        "a[\"RecipeInstructions\"] = a[\"RecipeInstructions\"].apply(lambda i: i[3:-2].replace(\"\\\", \\\"\", \" \").replace(\"\\\",\\\"\", \" \").replace(\"\\\", \\n\\\"\", \" \"))\n",
        "\n",
        "# Still limit review count for better data ()\n",
        "a = a[a.ReviewCount > 1]\n",
        "a"
      ]
    },
    {
      "cell_type": "code",
      "execution_count": null,
      "metadata": {
        "colab": {
          "background_save": true
        },
        "collapsed": true,
        "id": "0oegM8s1lrmf"
      },
      "outputs": [],
      "source": [
        "import ast\n",
        "\n",
        "# Text/sentences are in the form of R's character vector\n",
        "# This converts the character vector into an actual list\n",
        "def r_to_list(string):\n",
        "  if type(string) != str:\n",
        "    print(type(string), string)\n",
        "    return []\n",
        "\n",
        "  if string[0:2] == \"c(\":\n",
        "    \"\"\"\n",
        "    # Not splitting by \\\",\\\" because when NaN is in list there isn't a\n",
        "    items = [x.strip().strip('\"') for x in string.split(\", \")]\n",
        "\n",
        "    # Removing \" and \\n\n",
        "    temp = string[2:-1].replace(\"\\\", \\\"\", \";\").replace(\"\\\"\", \"\")\n",
        "    \"\"\"\n",
        "    return ast.literal_eval(string.replace(\"c(\", \"[\").replace(\")\", \"]\"))\n",
        "\n",
        "  # # No need to clean if not in R syntax (single item)\n",
        "  return [string.replace(\"\\\"\", \"\")]\n",
        "\n",
        "#RecipeIngredientQuantities\tRecipeIngredientParts\n",
        "\n",
        "a[\"RecipeIngredientParts\"] = a[\"RecipeIngredientParts\"].apply(r_to_list)\n",
        "a[\"RecipeIngredientParts\"]\n",
        "\n",
        "# NOTE: Recipe Ingredients contains just \"character(0)\" in 3 separate occasions"
      ]
    },
    {
      "cell_type": "code",
      "execution_count": null,
      "metadata": {
        "colab": {
          "background_save": true
        },
        "collapsed": true,
        "id": "uc1ZZu0UZ78K"
      },
      "outputs": [],
      "source": [
        "# Combine RecipeIngredientQuantities with RecipeIngredientParts?\n",
        "# Previous idea is to multiply the vector representing the ingredient by the quantity of the ingredient (Ex: [0.2, 0.3...] * 3 represents 3 lemons)\n",
        "# however that runs into the issue of us not knowing the unit of measurement of quantity.\n",
        "# Ex: 450 flour vs 70 oil vs 2 apples\n",
        "# Current solution is to just add the unit onto the end of the ingredient string so BERT figures out the quantity that makes the most sense instead.\n",
        "\n",
        "from fractions import Fraction\n",
        "import re\n",
        "\n",
        "def fract_to_string(fract):\n",
        "  if re.match(r'^\\d+\\s+\\d+/\\d+$', fract):  # Mixed number like \"6 1/2\"\n",
        "    whole, frac = fract.split()\n",
        "    return f\"{float(whole) + float(Fraction(frac)):.2f}\"\n",
        "  elif re.match(r'^\\d+/\\d+$', fract):  # Simple fraction like \"1/2\"\n",
        "    return f\"{float(Fraction(fract)):.2f}\"\n",
        "  else:  # Whole number or decimal\n",
        "    return fract\n",
        "\n",
        "def merge_lists(quantities, parts=None):\n",
        "  # This happens when quantities = nan\n",
        "  if type(quantities) != str:\n",
        "    return parts\n",
        "\n",
        "  if quantities[0:2] == \"c(\":\n",
        "    # Not splitting by \\\",\\\" because when NaN is in list there isn't a\n",
        "    items = [x.strip().strip('\"') for x in quantities[2:-1].split(\",\")]\n",
        "\n",
        "    if len(items) != len(parts):\n",
        "      # If items do not align then skip adding quantities\n",
        "      # Ex: ['1', '2', '2'] ['vanilla ice cream']\n",
        "      return parts\n",
        "\n",
        "    result = []\n",
        "    for i in range(len(items)):\n",
        "      it = items[i]\n",
        "      p = parts[i]\n",
        "\n",
        "      if it == \"NA\":\n",
        "        result.append(p)\n",
        "\n",
        "      # Range of values Ex \"1  - 1 1/2\"\n",
        "      if \"-\" in it:\n",
        "        it = it.split(\"-\")\n",
        "        result.append(p + \" (\" + fract_to_string(it[0].strip()) + \"-\" + fract_to_string(it[1].strip()) + \")\")\n",
        "      else:\n",
        "        result.append(p + \" (\" + fract_to_string(it) + \")\")\n",
        "\n",
        "\n",
        "    # Removing \" and \\n\n",
        "    #print(result)\n",
        "    return result\n",
        "\n",
        "  # No need to clean if not in R syntax (single item)\n",
        "  if (len(parts) == 1):\n",
        "    print(parts)\n",
        "    return [parts[0] + \" (\" + quantities.replace('\"', \"\") + \")\"]\n",
        "\n",
        "  return parts\n",
        "\n",
        "#a = a.drop([\"CookTime\", \"PrepTime\"], axis=1)\n",
        "a[\"RecipeIngredientParts\"] = a.apply(lambda i: merge_lists(i[\"RecipeIngredientQuantities\"], i[\"RecipeIngredientParts\"]), axis=1)\n",
        "a[\"RecipeIngredientParts\"]"
      ]
    },
    {
      "cell_type": "code",
      "execution_count": null,
      "metadata": {
        "colab": {
          "background_save": true
        },
        "collapsed": true,
        "id": "cH2m-_pGqwwj"
      },
      "outputs": [],
      "source": [
        "#b = pd.read_csv(\"/content/drive/MyDrive/kaggle_recipe_data/reviews.csv\")\n",
        "# display(b.groupby(\"RecipeId\").count().sort_values(\"ReviewId\"))\n",
        "#b"
      ]
    },
    {
      "cell_type": "code",
      "execution_count": null,
      "metadata": {
        "colab": {
          "background_save": true
        },
        "collapsed": true,
        "id": "YAi712DRrA4C"
      },
      "outputs": [],
      "source": [
        "#Cleaning time notation\n",
        "# From chatgpt\n",
        "def to_min(duration):\n",
        "  if pd.isna(duration):\n",
        "    return None\n",
        "  match = re.match(r'PT(?:(\\d+)H)?(?:(\\d+)M)?', duration)\n",
        "  hours = int(match.group(1)) if match.group(1) else 0\n",
        "  minutes = int(match.group(2)) if match.group(2) else 0\n",
        "  return hours * 60 + minutes\n",
        "\n",
        "#a[\"CookTime\"] = a[\"CookTime\"].apply(to_min)\n",
        "#a[\"PrepTime\"] = a[\"PrepTime\"].apply(to_min)\n",
        "a[\"TotalTime\"] = a[\"TotalTime\"].apply(to_min)\n",
        "a"
      ]
    },
    {
      "cell_type": "code",
      "execution_count": null,
      "metadata": {
        "colab": {
          "background_save": true
        },
        "collapsed": true,
        "id": "CYTJL75Dqin4"
      },
      "outputs": [],
      "source": [
        "# RecipeCategory is probably not the best metric to measure ratings\n",
        "plt.hist(a.groupby(\"RecipeCategory\").count()[\"Description\"])"
      ]
    },
    {
      "cell_type": "code",
      "execution_count": null,
      "metadata": {
        "colab": {
          "background_save": true
        },
        "id": "XLeVtaEKKNpP"
      },
      "outputs": [],
      "source": [
        "# Save csv\n",
        "a = a.drop([\"RecipeCategory\",\"Keywords\",\"RecipeIngredientQuantities\"], axis=1)\n",
        "a.to_csv(\"/content/drive/MyDrive/kaggle_recipe_data/cleaned_recipes.csv\")"
      ]
    },
    {
      "cell_type": "markdown",
      "metadata": {
        "id": "lHBPRvQE1G-p"
      },
      "source": [
        "---\n",
        "# More Preliminary Data Analysis"
      ]
    },
    {
      "cell_type": "code",
      "execution_count": null,
      "metadata": {
        "colab": {
          "background_save": true
        },
        "id": "1GuD0kzL_5k_"
      },
      "outputs": [],
      "source": [
        "# Mapping CookTime, PrepTime, and TotalTime's influence on Aggregate Ratings\n",
        "temp = a[['CookTime', 'PrepTime',\n",
        "       'TotalTime']]\n",
        "y = a[\"AggregatedRating\"]\n",
        "scaler = MinMaxScaler()\n",
        "temp = pd.DataFrame(scaler.fit_transform(temp), columns=temp.columns)\n",
        "\n",
        "for i in temp.columns:\n",
        "  print(i)\n",
        "  plt.scatter(y, temp[i], label=i, alpha=0.1)\n",
        "  plt.ylim(top=0.1)\n",
        "  plt.show()"
      ]
    },
    {
      "cell_type": "code",
      "execution_count": null,
      "metadata": {
        "colab": {
          "background_save": true
        },
        "id": "GaZlMbdMAee_"
      },
      "outputs": [],
      "source": [
        "# Seeing how Description and RecipeInstruction lengths influence Aggregate Ratings\n",
        "\n",
        "temp = a[[\"Description\", \"RecipeInstructions\"]].fillna('')\n",
        "for i in temp.columns:\n",
        "  z = temp[i].apply(len)\n",
        "  print(i)\n",
        "  plt.scatter(y, z, alpha=0.005)\n",
        "  plt.show()"
      ]
    },
    {
      "cell_type": "code",
      "execution_count": null,
      "metadata": {
        "colab": {
          "background_save": true
        },
        "collapsed": true,
        "id": "q52xmctMiC9v"
      },
      "outputs": [],
      "source": [
        "# Finding the amount of recipes in each rating\n",
        "temp = a[a.ReviewCount > 1].groupby(\"AggregatedRating\").count()\n",
        "display(temp[\"Description\"])"
      ]
    },
    {
      "cell_type": "code",
      "execution_count": null,
      "metadata": {
        "colab": {
          "background_save": true
        },
        "id": "e5arnlQO22hn"
      },
      "outputs": [],
      "source": [
        "# RecipeIngredientParts\n",
        "print(a.iloc[0].RecipeIngredientParts[3:-2])\n",
        "a.iloc[0].RecipeIngredientQuantities[3:-2].split(\"\\\", \\\"\")"
      ]
    },
    {
      "cell_type": "markdown",
      "metadata": {
        "id": "zAFC_0x3mG-S"
      },
      "source": [
        "---\n",
        "\n",
        "# Test/Validation sets"
      ]
    },
    {
      "cell_type": "markdown",
      "metadata": {
        "id": "vLXVgxjLxRQI"
      },
      "source": [
        "Issues: Data (Ratings) is an ordinal variable, meaning it is ordered but not"
      ]
    },
    {
      "cell_type": "markdown",
      "metadata": {
        "id": "8Mdpol91mqHw"
      },
      "source": [
        "1. Select ~150 random samples from each Rating category\n",
        "\n",
        "  A. Ignore 1.5 rating due to limited number\n",
        "\n",
        "  B. Increase sample amount if accuracy isn't good enough.\n",
        "\n",
        "Models (mix and match)\n",
        "\n",
        "1. Just BERT encode ingredients and use that data to predict ratings\n",
        "\n",
        "  A. Try another subset where you multiply encodings with ingredient amounts.\n",
        "\n",
        "2. BERT encode recipe and use that data to predict ratings\n",
        "\n",
        "3. Classic neural net using nutrition and cooking time. Recipe length?"
      ]
    },
    {
      "cell_type": "code",
      "execution_count": null,
      "metadata": {
        "colab": {
          "background_save": true
        },
        "id": "L5orETFGMaCW"
      },
      "outputs": [],
      "source": [
        "display(a.groupby(\"AggregatedRating\").count())"
      ]
    },
    {
      "cell_type": "code",
      "execution_count": null,
      "metadata": {
        "colab": {
          "background_save": true
        },
        "id": "uNAbkCP4mGQm"
      },
      "outputs": [],
      "source": [
        "# Select 150 random samples from each Rating category\n",
        "\n",
        "def train_set(a, replace=False):\n",
        "  train = pd.DataFrame()\n",
        "  val = pd.DataFrame()\n",
        "  test = pd.DataFrame()\n",
        "  # Will leave 1.5 in despite not having as much data for now (so training and test sets will contain same data for 1.5 rating)\n",
        "  for i in [1,1.5,2,2.5, 3. , 3.5, 4. , 4.5, 5]:\n",
        "    slicer = a[a.AggregatedRating == i]\n",
        "\n",
        "    lim = 2500\n",
        "\n",
        "    if (len(slicer) < lim):\n",
        "      if replace:\n",
        "        temp = slicer.sample(int(lim*0.8), replace=True).reset_index(drop=True)\n",
        "        train = pd.concat([train, temp], ignore_index=True)\n",
        "        if (len(slicer) > lim*0.1):\n",
        "          val = pd.concat([val, slicer.sample(int(lim*0.1), replace=True).reset_index(drop=True)], ignore_index=True)\n",
        "          test = pd.concat([test, slicer.sample(int(lim*0.1), replace=True).reset_index(drop=True)], ignore_index=True)\n",
        "          continue\n",
        "\n",
        "        val = pd.concat([val, slicer], ignore_index=True)\n",
        "        test = pd.concat([test, slicer], ignore_index=True)\n",
        "        continue\n",
        "\n",
        "      print(i)\n",
        "      temp = slicer.sample(len(slicer)).reset_index(drop=True)\n",
        "    else:\n",
        "      temp = slicer.sample(lim).reset_index(drop=True)\n",
        "\n",
        "    test_temp = temp.sample(frac=0.1)\n",
        "    test = pd.concat([test, test_temp], ignore_index=True)\n",
        "\n",
        "    temp = temp.drop(test_temp.index)\n",
        "    val_temp = temp.sample(frac=1/9)\n",
        "    val = pd.concat([val, val_temp], ignore_index=True)\n",
        "\n",
        "    train = pd.concat([train, temp.drop(val_temp.index)], ignore_index=True)\n",
        "  return train, val, test"
      ]
    },
    {
      "cell_type": "code",
      "execution_count": null,
      "metadata": {
        "colab": {
          "background_save": true
        },
        "id": "KOOD9lbHl6Y3"
      },
      "outputs": [],
      "source": [
        "train, val, test = train_set(a, True)\n",
        "\n",
        "display(train.groupby(\"AggregatedRating\").count().Name)\n",
        "display(val.groupby(\"AggregatedRating\").count().Name)\n",
        "display(test.groupby(\"AggregatedRating\").count().Name)"
      ]
    },
    {
      "cell_type": "markdown",
      "metadata": {
        "id": "O2iZnnzilRcZ"
      },
      "source": [
        "---\n",
        "# Training Ridge Regression\n",
        "\n",
        "- Train model based on SBERT"
      ]
    },
    {
      "cell_type": "code",
      "execution_count": null,
      "metadata": {
        "colab": {
          "background_save": true
        },
        "id": "31_qWP2FFuSF"
      },
      "outputs": [],
      "source": [
        "from sklearn.linear_model import Ridge, LogisticRegression\n",
        "from sklearn.model_selection import train_test_split\n",
        "from sklearn.metrics import mean_squared_error\n",
        "\n",
        "from sentence_transformers import SentenceTransformer, util"
      ]
    },
    {
      "cell_type": "code",
      "execution_count": null,
      "metadata": {
        "colab": {
          "background_save": true
        },
        "id": "MkXCmgTL4eE8"
      },
      "outputs": [],
      "source": [
        "def result_hist(y_test, predictions):\n",
        "\n",
        "  plt.hist(y_test, bins=[0.75,1.25,1.75,2.25,2.75,3.25,3.75,4.25,4.75,5.25])\n",
        "  plt.hist(predictions, bins=[0.75,1.25,1.75,2.25,2.75,3.25,3.75,4.25,4.75,5.25], alpha=0.5)\n",
        "  plt.show()"
      ]
    },
    {
      "cell_type": "code",
      "execution_count": null,
      "metadata": {
        "colab": {
          "background_save": true
        },
        "id": "Y5hddwZspvlV"
      },
      "outputs": [],
      "source": [
        "x_train = train.RecipeInstructions.to_numpy()\n",
        "y_train = train.AggregatedRating.to_numpy()\n",
        "\n",
        "x_val = val.RecipeInstructions.to_numpy()\n",
        "y_val = val.AggregatedRating.to_numpy()\n",
        "\n",
        "x_test = test.RecipeInstructions.to_numpy()\n",
        "y_test = test.AggregatedRating.to_numpy()"
      ]
    },
    {
      "cell_type": "code",
      "execution_count": null,
      "metadata": {
        "colab": {
          "background_save": true
        },
        "id": "zXz59pL483gM"
      },
      "outputs": [],
      "source": [
        "model = SentenceTransformer('all-MiniLM-L6-v2')"
      ]
    },
    {
      "cell_type": "code",
      "execution_count": null,
      "metadata": {
        "colab": {
          "background_save": true
        },
        "id": "_uM3iVcxsfQs"
      },
      "outputs": [],
      "source": [
        "# Encoding\n",
        "X_val = model.encode(x_val)\n",
        "X_test = model.encode(x_test)\n",
        "X_train = model.encode(x_train)"
      ]
    },
    {
      "cell_type": "code",
      "execution_count": null,
      "metadata": {
        "colab": {
          "background_save": true
        },
        "id": "sDLTAJ3oV-c_"
      },
      "outputs": [],
      "source": [
        "\n",
        "# Train regression model (Ridge is simple + works well)\n",
        "regressor = Ridge(alpha=1.0)\n",
        "regressor.fit(X_train, y_train)\n",
        "\n",
        "# Predict on the validation set\n",
        "y_pred = regressor.predict(X_val)\n",
        "\n",
        "# Compute the training loss (Mean Squared Error)\n",
        "train_loss = mean_squared_error(y_train, regressor.predict(X_train))\n",
        "val_loss = mean_squared_error(y_val, y_pred)\n",
        "\n",
        "print(f\"Training Loss (MSE): {train_loss}\")\n",
        "print(f\"Validation Loss (MSE): {val_loss}\")\n",
        "\n",
        "predictions = regressor.predict(X_test)\n",
        "print(\"Test MSE:\", mean_squared_error(y_test, predictions))"
      ]
    },
    {
      "cell_type": "code",
      "execution_count": null,
      "metadata": {
        "colab": {
          "background_save": true
        },
        "id": "Gl0bAvFQdi__"
      },
      "outputs": [],
      "source": [
        "result_hist(y_test, predictions)"
      ]
    },
    {
      "cell_type": "code",
      "execution_count": null,
      "metadata": {
        "colab": {
          "background_save": true
        },
        "id": "Aivzzs74dnTL"
      },
      "outputs": [],
      "source": [
        "x_everything = model.encode(a.RecipeInstructions.to_numpy())\n",
        "y_everything = a.AggregatedRating.to_numpy()\n",
        "predictions = regressor.predict(x_everything)\n",
        "print(\"Test MSE:\", mean_squared_error(y_everything, predictions))"
      ]
    },
    {
      "cell_type": "code",
      "execution_count": null,
      "metadata": {
        "colab": {
          "background_save": true
        },
        "id": "Qc-G1LWFrKDV"
      },
      "outputs": [],
      "source": [
        "predictions = regressor.predict(x_everything)\n",
        "print(\"Test MSE:\", mean_squared_error(y_everything, predictions))"
      ]
    },
    {
      "cell_type": "markdown",
      "metadata": {
        "id": "3ltAU6PYWqp4"
      },
      "source": [
        "\n",
        "MSE for 225 samples (Stars 1-5):\n",
        "\n",
        "> Training Loss (MSE): 1.23611810387001\n",
        ">\n",
        "> Validation Loss (MSE): 1.5667101556354883\n",
        ">\n",
        "> Test MSE: 1.3936351705545431\n",
        "\n",
        "MSE for 225 samples (Stars 3-5):\n",
        "\n",
        "> Training Loss (MSE): 1.3593852071886652\n",
        ">\n",
        "> Validation Loss (MSE): 1.4624971323290816\n",
        ">\n",
        "> Test MSE: 1.429964690131674\n",
        "\n",
        "MSE for 600 samples (Stars 1-5):\n",
        "\n",
        "> Training Loss (MSE): 1.23611810387001\n",
        ">\n",
        "> Validation Loss (MSE): 1.5667101556354883\n",
        ">\n",
        "> Test MSE: 1.3936351705545431\n",
        "\n",
        "MSE for 2500 samples (Stars 1-5): More spread out in histogram though:\n",
        "\n",
        "> Training Loss (MSE): 1.3401566783971675\n",
        ">\n",
        "> Validation Loss (MSE): 1.3846154609295271\n",
        ">\n",
        "> Test MSE: 1.4148778344737325\n",
        "\n",
        "MSE for 2500 samples (Stars 1-5): # 2\n",
        ">Training Loss (MSE): 1.3460721014673387\n",
        ">\n",
        ">Validation Loss (MSE): 1.3684840898568502\n",
        ">\n",
        ">Test MSE: 1.3725875750274592\n",
        "\n",
        "MSE for 600 samples (Stars 3-5):\n",
        "\n",
        "> Training Loss (MSE): 0.44443022001562005\n",
        ">\n",
        ">Validation Loss (MSE): 0.5027299551218765\n",
        ">\n",
        ">Test MSE: 0.50976798542573\n",
        "\n",
        "MSE for 600 samples(Stars 2.5-5):\n",
        ">Training Loss (MSE): 0.643632585542885\n",
        ">\n",
        ">Validation Loss (MSE): 0.7490430865015354\n",
        ">\n",
        ">Test MSE: 0.7641926373020728\n",
        "---\n",
        "\n",
        "MSE for 255 samples (Stars 3-5), Using first val/test:\n",
        "\n",
        "> Training Loss (MSE): 0.40408112183503614\n",
        ">\n",
        ">Validation Loss (MSE): 2.557120427603856\n",
        ">\n",
        ">Test MSE: 2.681072972705677\n",
        "\n",
        "MSE for 255 samples (Stars 2.5-5), Using first val/test:\n",
        ">Training Loss (MSE): 0.6051749768125259\n",
        ">\n",
        ">Validation Loss (MSE): 2.1092828494753326\n",
        ">\n",
        ">Test MSE: 2.157709831478301\n",
        "\n",
        "MSE for 600 samples (Stars 2.5-5), Using first val/test:\n",
        ">Training Loss (MSE): 0.6498022455250368\n",
        ">\n",
        ">Validation Loss (MSE): 2.176261720563711\n",
        ">\n",
        ">Test MSE: 2.1597104193233196\n",
        "\n",
        "\n",
        "** for 2500 samples (Stars 3-5), Using first val/test: (hist seems focused between 3.5-4.5) **\n",
        "> Training Loss (MSE): 0.4709096375554579\n",
        ">\n",
        "> Validation Loss (MSE): 2.5761128005971616\n",
        ">\n",
        "> Test MSE: 2.5768043793859716\n",
        "\n",
        "---\n",
        "\n",
        "Limited 1-2 ratings, 600\n",
        ">Training Loss (MSE): 1.0868908643971014\n",
        ">\n",
        ">Validation Loss (MSE): 1.2416867116057286\n",
        ">\n",
        ">Test MSE: 1.2165158137672667\n",
        "\n",
        "---\n",
        "\n",
        "2000 samples, replaced training, non replaced val/test\n",
        ">\n",
        ">\n",
        ">\n",
        ">\n",
        ">"
      ]
    },
    {
      "cell_type": "code",
      "execution_count": null,
      "metadata": {
        "colab": {
          "background_save": true
        },
        "id": "3nxTNsKXfpuN"
      },
      "outputs": [],
      "source": [
        "model = LogisticRegression(solver='lbfgs',max_iter=2000).fit(X_train, y_train*2)\n",
        "# Predict on the validation set\n",
        "train_loss = mean_squared_error(y_train, regressor.predict(X_train))\n",
        "\n",
        "print(f\"Training Loss (MSE): {mean_squared_error(y_train, model.predict(X_train)/2)}\")\n",
        "print(f\"Validation Loss (MSE): {mean_squared_error(y_val, model.predict(X_val)/2)}\")\n",
        "print(\"Test MSE:\", mean_squared_error(y_test, model.predict(X_test)/2))"
      ]
    },
    {
      "cell_type": "markdown",
      "metadata": {
        "id": "Q6Wa6mvk6dro"
      },
      "source": [
        "---\n",
        "# Using Ordered Model/Linear Regression instead of Linear Regression\n",
        "\n",
        "Ridge regression's best performance seems to be ~1.4 MSE. Predictions look like bell curve."
      ]
    },
    {
      "cell_type": "code",
      "execution_count": null,
      "metadata": {
        "colab": {
          "background_save": true
        },
        "id": "ErMMipZE9xjm"
      },
      "outputs": [],
      "source": [
        "from statsmodels.miscmodels.ordinal_model import OrderedModel\n",
        "from sklearn.preprocessing import StandardScaler"
      ]
    },
    {
      "cell_type": "code",
      "execution_count": null,
      "metadata": {
        "colab": {
          "background_save": true
        },
        "id": "D_Tiq8X_P3fX"
      },
      "outputs": [],
      "source": [
        "X_train.shape"
      ]
    },
    {
      "cell_type": "code",
      "execution_count": null,
      "metadata": {
        "colab": {
          "background_save": true
        },
        "id": "jcW8etLtxGsx"
      },
      "outputs": [],
      "source": [
        "#scaler = StandardScaler()\n",
        "#X_train = scaler.transform(x_train)\n",
        "model_o = OrderedModel(endog=y_train, exog=X_train, distr='logit')\n",
        "result = model_o.fit(method='bfgs', disp=False)\n",
        "\n",
        "import joblib\n",
        "# Save the fitted model to a file\n",
        "joblib.dump(result, 'ordered_model600_limited.pkl')"
      ]
    },
    {
      "cell_type": "code",
      "execution_count": null,
      "metadata": {
        "colab": {
          "background_save": true
        },
        "id": "XvTSHFBJ9gnf"
      },
      "outputs": [],
      "source": [
        "#chatgpt\n",
        "def prob_to_class(probabilities):\n",
        "    \"\"\"\n",
        "    Convert predicted probabilities to actual class labels.\n",
        "\n",
        "    Parameters:\n",
        "    - probabilities: Array of shape (n_samples, n_classes), output from OrderedModel.predict()\n",
        "    - classes: Array of class labels (e.g., [0, 1, 2, 3, 4])\n",
        "\n",
        "    Returns:\n",
        "    - Predicted class labels corresponding to each sample.\n",
        "    \"\"\"\n",
        "    classes = np.array([1,1.5,2,2.5,3,3.5,4,4.5,5])\n",
        "    predicted_classes = np.argmax(probabilities, axis=1)  # Get index of max probability\n",
        "    return classes[predicted_classes]"
      ]
    },
    {
      "cell_type": "code",
      "execution_count": null,
      "metadata": {
        "colab": {
          "background_save": true
        },
        "collapsed": true,
        "id": "FPTLBQUl0GHj"
      },
      "outputs": [],
      "source": [
        "train_loss = mean_squared_error(y_train, prob_to_class(result.predict(X_train)))\n",
        "val_loss = mean_squared_error(y_val, prob_to_class(result.predict(X_val)))\n",
        "\n",
        "print(f\"Training Loss (MSE): {train_loss}\")\n",
        "print(f\"Validation Loss (MSE): {val_loss}\")\n",
        "\n",
        "predictions = prob_to_class(result.predict(X_test))\n",
        "print(\"Test MSE:\", mean_squared_error(y_test, predictions))\n",
        "\n",
        "result_hist(y_test, predictions)"
      ]
    },
    {
      "cell_type": "code",
      "execution_count": null,
      "metadata": {
        "colab": {
          "background_save": true
        },
        "collapsed": true,
        "id": "OARpikAa7iP2"
      },
      "outputs": [],
      "source": [
        "from sklearn.linear_model import LinearRegression\n",
        "model = LinearRegression()\n",
        "result = model.fit(X_train, y_train)\n",
        "\n",
        "train_loss = mean_squared_error(y_train, result.predict(X_train))\n",
        "val_loss = mean_squared_error(y_val, result.predict(X_val))\n",
        "\n",
        "print(f\"Training Loss (MSE): {train_loss}\")\n",
        "print(f\"Validation Loss (MSE): {val_loss}\")\n",
        "\n",
        "predictions = result.predict(X_test)\n",
        "print(\"Test MSE:\", mean_squared_error(y_test, predictions))\n",
        "\n",
        "result_hist(y_test, predictions)"
      ]
    },
    {
      "cell_type": "markdown",
      "metadata": {
        "id": "6hE0VMFw7qIy"
      },
      "source": [
        "For 600 linear regression\n",
        "\t\tTraining Loss (MSE): 1.0788725082659094\n",
        "\t\tValidation Loss (MSE): 1.808406352818384\n",
        "\t\tTest MSE: 2.179341969696303"
      ]
    },
    {
      "cell_type": "markdown",
      "metadata": {
        "id": "Ejd2aGQv7KHj"
      },
      "source": [
        "---\n",
        "# neural network"
      ]
    },
    {
      "cell_type": "code",
      "execution_count": null,
      "metadata": {
        "colab": {
          "background_save": true
        },
        "id": "rFXAk6TR-SZH"
      },
      "outputs": [],
      "source": [
        "from tensorflow.keras.models import Sequential\n",
        "from tensorflow.keras.layers import Dense, Dropout\n",
        "from tensorflow.keras.optimizers import Adam"
      ]
    },
    {
      "cell_type": "markdown",
      "metadata": {
        "id": "FRbqmh-6C-eD"
      },
      "source": [
        "(128, 64, 32, 1), learning 0.15 gives consistent 1.255 for validation loss\n",
        "\n",
        "- learning 0.01 leads to overfitting\n",
        "\n",
        "- Adding dropout (0.5 layers decreases validation and training (with learning 0.01)\n",
        "\n",
        "Adding 256 layer reduced val loss to 1.19 (dropout is 0.4), learning 0.005\n",
        "\n",
        "* For 50 epochs\n",
        "---\n",
        "Up to 200 epochs can get to 0.9, learning rate 0.005\n",
        "\n"
      ]
    },
    {
      "cell_type": "code",
      "execution_count": null,
      "metadata": {
        "colab": {
          "background_save": true
        },
        "id": "hsRuMWrvjXfB"
      },
      "outputs": [],
      "source": [
        "# Define the model\n",
        "model = Sequential([\n",
        "    #Dense(384, activation='relu', input_shape=(384,)),\n",
        "    #Dense(512, activation='relu'),\n",
        "    #Dropout(0.5),\n",
        "    Dense(256, activation='relu'),\n",
        "    Dropout(0.5),\n",
        "    Dense(128, activation='relu'),\n",
        "    Dropout(0.5),\n",
        "    Dense(64, activation='relu'),\n",
        "    Dropout(0.4),\n",
        "    Dense(32, activation='relu'),\n",
        "    Dropout(0.4),\n",
        "    Dense(1)  # Output layer for regression\n",
        "])\n",
        "optimizer = Adam(learning_rate=0.005)\n",
        "# , metrics=['mse'] same thing as loss\n",
        "model.compile(optimizer=optimizer, loss='mse')"
      ]
    },
    {
      "cell_type": "code",
      "execution_count": null,
      "metadata": {
        "colab": {
          "background_save": true
        },
        "id": "eVgLTbEMDHOa"
      },
      "outputs": [],
      "source": [
        "history = model.fit(X_train, y_train, validation_data=(X_val, y_val), epochs=200)"
      ]
    },
    {
      "cell_type": "code",
      "execution_count": null,
      "metadata": {
        "colab": {
          "background_save": true
        },
        "id": "w1420qQ59USw"
      },
      "outputs": [],
      "source": [
        "model.summary()"
      ]
    },
    {
      "cell_type": "code",
      "execution_count": null,
      "metadata": {
        "colab": {
          "background_save": true
        },
        "id": "IflXM754-ebH"
      },
      "outputs": [],
      "source": [
        "def plot_hist(history):\n",
        "  x = range(1, len(history.history[\"loss\"]) + 1)\n",
        "  plt.plot(x, history.history['loss'], label=\"Training\")\n",
        "  plt.plot(x, history.history['val_loss'], label=\"Validation\")\n",
        "  #plt.ylim([0, 2])\n",
        "  plt.xlabel(\"Epochs\")\n",
        "  plt.ylabel(\"MSE\")\n",
        "  plt.legend()\n",
        "  plt.title(\"Loss\")\n",
        "  plt.show()\n",
        "  \"\"\"\n",
        "  plt.plot(x, history.history['mse'], label=\"Training\")\n",
        "  plt.plot(x, history.history['val_mse'], label=\"Validation\")\n",
        "  plt.ylim([0.5, 1.5])\n",
        "  plt.xlabel(\"epoch\")\n",
        "  plt.ylabel(\"MSE\")\n",
        "  plt.legend()\n",
        "  plt.title(\"MSE\")\n",
        "  plt.show()\n",
        "  \"\"\"\n",
        "\n",
        "plot_hist(history)"
      ]
    },
    {
      "cell_type": "code",
      "execution_count": null,
      "metadata": {
        "colab": {
          "background_save": true
        },
        "id": "ZTKOX6VZtXNd"
      },
      "outputs": [],
      "source": [
        "#model.save(\"/content/drive/MyDrive/600Recipe.keras\")"
      ]
    },
    {
      "cell_type": "code",
      "execution_count": null,
      "metadata": {
        "colab": {
          "background_save": true
        },
        "id": "NiLRTZiY-kqJ"
      },
      "outputs": [],
      "source": [
        "mean_squared_error(y_test, model.predict(X_test).reshape(2051))"
      ]
    },
    {
      "cell_type": "code",
      "execution_count": null,
      "metadata": {
        "colab": {
          "background_save": true
        },
        "id": "DgCZB17o_OFt"
      },
      "outputs": [],
      "source": [
        "result_hist(y_test, model.predict(X_test))"
      ]
    },
    {
      "cell_type": "code",
      "execution_count": null,
      "metadata": {
        "colab": {
          "background_save": true
        },
        "id": "HdGU6p3Hfz_O"
      },
      "outputs": [],
      "source": [
        "for i in range(9):\n",
        "  print(i*0.5+1, mean_squared_error(y_test[y_test==i*0.5 + 1], model.predict(X_test).reshape(2051)[y_test==i*0.5 + 1]))\n",
        "  print()"
      ]
    },
    {
      "cell_type": "markdown",
      "metadata": {
        "id": "YkQpilS4d4F0"
      },
      "source": [
        "---\n",
        "# Trained SBERT"
      ]
    },
    {
      "cell_type": "code",
      "execution_count": null,
      "metadata": {
        "colab": {
          "background_save": true
        },
        "id": "8vx2ZJ35kKZb"
      },
      "outputs": [],
      "source": [
        "# https://sbert.net/docs/sentence_transformer/training_overview.html\n",
        "# https://www.marqo.ai/course/training-fine-tuning-sentence-transformers\n",
        "\n",
        "from sentence_transformers import (\n",
        "    SentenceTransformer,\n",
        "    SentenceTransformerTrainer,\n",
        "    SentenceTransformerTrainingArguments,\n",
        "    InputExample\n",
        ")\n",
        "from sentence_transformers.losses import MSELoss, BatchHardTripletLoss, BatchSemiHardTripletLoss\n",
        "from sentence_transformers.evaluation import EmbeddingSimilarityEvaluator\n",
        "from torch.utils.data import DataLoader\n",
        "\n",
        "from datasets import Dataset\n",
        "\n",
        "from datasets import load_dataset"
      ]
    },
    {
      "cell_type": "code",
      "execution_count": null,
      "metadata": {
        "colab": {
          "background_save": true
        },
        "id": "MrtxvLhKkyL-"
      },
      "outputs": [],
      "source": [
        "\"\"\"\n",
        "train_examples = [\n",
        "    InputExample(texts=[row['RecipeInstructions']], label=float(row['AggregatedRating']))\n",
        "    for _, row in train.iterrows()\n",
        "]\n",
        "eval_examples = [\n",
        "    InputExample(texts=[row['RecipeInstructions']], label=float(row['AggregatedRating']))\n",
        "    for _, row in val.iterrows()\n",
        "]\n",
        "train_dataloader = DataLoader(train_examples, shuffle=True, batch_size=16)\n",
        "\"\"\"\n",
        "\n",
        "# If you get the byte->float error just remake the train and val datasets\n",
        "train_examples = Dataset.from_dict({\n",
        "    \"Texts\": train[\"RecipeInstructions\"],\n",
        "    \"score\": train[\"AggregatedRating\"],\n",
        "})\n",
        "val_examples = Dataset.from_dict({\n",
        "    \"Texts\": val[\"RecipeInstructions\"],\n",
        "    \"score\": val[\"AggregatedRating\"],\n",
        "})"
      ]
    },
    {
      "cell_type": "code",
      "execution_count": null,
      "metadata": {
        "colab": {
          "background_save": true
        },
        "id": "Co8_52b3nZOl"
      },
      "outputs": [],
      "source": [
        "sbert = SentenceTransformer('all-MiniLM-L6-v2')\n",
        "#sbert = SentenceTransformer(\"/content/drive/MyDrive/SBertRecipe\")\n",
        "loss = BatchHardTripletLoss(model=sbert)\n",
        "#loss = BatchSemiHardTripletLoss(model=sbert)"
      ]
    },
    {
      "cell_type": "code",
      "execution_count": null,
      "metadata": {
        "colab": {
          "background_save": true
        },
        "id": "w-WD_lXVnhx0"
      },
      "outputs": [],
      "source": [
        "args = SentenceTransformerTrainingArguments(\n",
        "    # Required parameter:\n",
        "    output_dir=\"/content/drive/MyDrive/SBertRecipe2\",\n",
        "\n",
        "    num_train_epochs=6,\n",
        "    #per_device_train_batch_size=16,\n",
        "    #per_device_eval_batch_size=16,\n",
        "    #learning_rate=2e-5,\n",
        "    #warmup_ratio=0.1,\n",
        "    #fp16=False,  # Set to False if you get an error that your GPU can't run on FP16\n",
        "    #bf16=True,  # Set to True if you have a GPU that supports BF16\n",
        "    #batch_sampler=BatchSamplers.NO_DUPLICATES,  # MultipleNegativesRankingLoss benefits from no duplicate samples in a batch\n",
        "    # Optional tracking/debugging parameters:\n",
        "    eval_strategy=\"steps\",\n",
        "    #eval_steps=100,\n",
        "    #save_strategy=\"steps\",\n",
        "    #save_steps=100,\n",
        "    #save_total_limit=2,\n",
        "    #logging_steps=100,\n",
        "    #run_name=\"mpnet-base-all-nli-triplet\",  # Will be used in W&B if `wandb` is installed\n",
        "    nan_inf_filter=True\n",
        ")\n",
        "trainer = SentenceTransformerTrainer(\n",
        "    model=sbert,\n",
        "    args=args,\n",
        "    train_dataset=train_examples,\n",
        "    eval_dataset=val_examples,\n",
        "    loss=loss,\n",
        ")\n",
        "trainer.train()"
      ]
    },
    {
      "cell_type": "code",
      "execution_count": null,
      "metadata": {
        "colab": {
          "background_save": true
        },
        "id": "_twyW2TfivY1"
      },
      "outputs": [],
      "source": [
        "trainer.train()"
      ]
    },
    {
      "cell_type": "code",
      "execution_count": null,
      "metadata": {
        "colab": {
          "background_save": true
        },
        "id": "JNyvmKlCnuVO"
      },
      "outputs": [],
      "source": [
        "trainer.train()"
      ]
    },
    {
      "cell_type": "code",
      "execution_count": null,
      "metadata": {
        "colab": {
          "background_save": true
        },
        "id": "gURI-S_I17K3"
      },
      "outputs": [],
      "source": [
        "sbert.save(\"/content/drive/MyDrive/SBertRecipe3-5\")"
      ]
    },
    {
      "cell_type": "code",
      "execution_count": null,
      "metadata": {
        "colab": {
          "background_save": true
        },
        "id": "VoVzuneN_cYM"
      },
      "outputs": [],
      "source": [
        "plt.plot([i[\"loss\"] for i in trainer.state.log_history[0:-2] if \"loss\" in i], label=\"Training\")\n",
        "plt.plot([i[\"eval_loss\"] for i in trainer.state.log_history[0:-2] if \"eval_loss\" in i], label=\"Eval\")\n",
        "plt.legend()\n",
        "plt.xlabel(\"Steps\")\n",
        "plt.ylabel(\"Loss\")\n",
        "plt.title(\"SBERT Training Loss Over Epochs 7-12\")"
      ]
    },
    {
      "cell_type": "code",
      "execution_count": null,
      "metadata": {
        "colab": {
          "background_save": true
        },
        "id": "-gFoV0egbEcY"
      },
      "outputs": [],
      "source": []
    },
    {
      "cell_type": "code",
      "execution_count": null,
      "metadata": {
        "colab": {
          "background_save": true
        },
        "id": "_kCOlqAo6L7h"
      },
      "outputs": [],
      "source": [
        "trainer.state.log_history"
      ]
    },
    {
      "cell_type": "code",
      "execution_count": null,
      "metadata": {
        "colab": {
          "background_save": true
        },
        "id": "DS6D89xYJMzj"
      },
      "outputs": [],
      "source": [
        "\n",
        "trainer.train()"
      ]
    },
    {
      "cell_type": "code",
      "execution_count": null,
      "metadata": {
        "colab": {
          "background_save": true
        },
        "id": "T6isFfKkbbY5"
      },
      "outputs": [],
      "source": [
        "SentenceTransformer(\"/content/drive/MyDrive/SBertRecipe\")"
      ]
    },
    {
      "cell_type": "code",
      "execution_count": null,
      "metadata": {
        "colab": {
          "background_save": true
        },
        "id": "CkGVK-Gubez1"
      },
      "outputs": [],
      "source": []
    },
    {
      "cell_type": "markdown",
      "metadata": {
        "id": "wT-tRCScdfNn"
      },
      "source": [
        "### Section: LLaMA + PEFT (LoRA) Fine-Tuning"
      ]
    },
    {
      "cell_type": "code",
      "execution_count": null,
      "metadata": {
        "colab": {
          "background_save": true
        },
        "id": "vD9IybdVddJ6",
        "outputId": "1f4f748b-4cf3-4fb2-9406-06069edf408d"
      },
      "outputs": [
        {
          "name": "stdout",
          "output_type": "stream",
          "text": [
            "\u001b[2K   \u001b[90m━━━━━━━━━━━━━━━━━━━━━━━━━━━━━━━━━━━━━━━━\u001b[0m \u001b[32m76.1/76.1 MB\u001b[0m \u001b[31m7.0 MB/s\u001b[0m eta \u001b[36m0:00:00\u001b[0m\n",
            "\u001b[?25h"
          ]
        }
      ],
      "source": [
        "# ==========================================\n",
        "# Section: LLaMA + PEFT (LoRA) Fine-Tuning\n",
        "# ==========================================\n",
        "\n",
        "# Install required libraries if not already installed\n",
        "!pip install -q transformers accelerate peft bitsandbytes\n",
        "\n",
        "from transformers import AutoTokenizer, AutoModelForCausalLM, TrainingArguments, Trainer\n",
        "from peft import get_peft_model, LoraConfig, TaskType\n",
        "import torch\n",
        "\n"
      ]
    },
    {
      "cell_type": "code",
      "execution_count": null,
      "metadata": {
        "colab": {
          "background_save": true
        },
        "id": "xx9ucee6eXFu",
        "outputId": "b717ca19-2fab-4484-a02b-109877d0ab79"
      },
      "outputs": [
        {
          "ename": "OSError",
          "evalue": "You are trying to access a gated repo.\nMake sure to have access to it at https://huggingface.co/meta-llama/Llama-2-7b-hf.\n401 Client Error. (Request ID: Root=1-67fc0df3-7368f101792869407c26cfe0;3c64c6e0-d656-4d5e-b7e1-6ae2227f2747)\n\nCannot access gated repo for url https://huggingface.co/meta-llama/Llama-2-7b-hf/resolve/main/config.json.\nAccess to model meta-llama/Llama-2-7b-hf is restricted. You must have access to it and be authenticated to access it. Please log in.",
          "output_type": "error",
          "traceback": [
            "\u001b[0;31m---------------------------------------------------------------------------\u001b[0m",
            "\u001b[0;31mHTTPError\u001b[0m                                 Traceback (most recent call last)",
            "\u001b[0;32m/usr/local/lib/python3.11/dist-packages/huggingface_hub/utils/_http.py\u001b[0m in \u001b[0;36mhf_raise_for_status\u001b[0;34m(response, endpoint_name)\u001b[0m\n\u001b[1;32m    408\u001b[0m     \u001b[0;32mtry\u001b[0m\u001b[0;34m:\u001b[0m\u001b[0;34m\u001b[0m\u001b[0;34m\u001b[0m\u001b[0m\n\u001b[0;32m--> 409\u001b[0;31m         \u001b[0mresponse\u001b[0m\u001b[0;34m.\u001b[0m\u001b[0mraise_for_status\u001b[0m\u001b[0;34m(\u001b[0m\u001b[0;34m)\u001b[0m\u001b[0;34m\u001b[0m\u001b[0;34m\u001b[0m\u001b[0m\n\u001b[0m\u001b[1;32m    410\u001b[0m     \u001b[0;32mexcept\u001b[0m \u001b[0mHTTPError\u001b[0m \u001b[0;32mas\u001b[0m \u001b[0me\u001b[0m\u001b[0;34m:\u001b[0m\u001b[0;34m\u001b[0m\u001b[0;34m\u001b[0m\u001b[0m\n",
            "\u001b[0;32m/usr/local/lib/python3.11/dist-packages/requests/models.py\u001b[0m in \u001b[0;36mraise_for_status\u001b[0;34m(self)\u001b[0m\n\u001b[1;32m   1023\u001b[0m         \u001b[0;32mif\u001b[0m \u001b[0mhttp_error_msg\u001b[0m\u001b[0;34m:\u001b[0m\u001b[0;34m\u001b[0m\u001b[0;34m\u001b[0m\u001b[0m\n\u001b[0;32m-> 1024\u001b[0;31m             \u001b[0;32mraise\u001b[0m \u001b[0mHTTPError\u001b[0m\u001b[0;34m(\u001b[0m\u001b[0mhttp_error_msg\u001b[0m\u001b[0;34m,\u001b[0m \u001b[0mresponse\u001b[0m\u001b[0;34m=\u001b[0m\u001b[0mself\u001b[0m\u001b[0;34m)\u001b[0m\u001b[0;34m\u001b[0m\u001b[0;34m\u001b[0m\u001b[0m\n\u001b[0m\u001b[1;32m   1025\u001b[0m \u001b[0;34m\u001b[0m\u001b[0m\n",
            "\u001b[0;31mHTTPError\u001b[0m: 401 Client Error: Unauthorized for url: https://huggingface.co/meta-llama/Llama-2-7b-hf/resolve/main/config.json",
            "\nThe above exception was the direct cause of the following exception:\n",
            "\u001b[0;31mGatedRepoError\u001b[0m                            Traceback (most recent call last)",
            "\u001b[0;32m/usr/local/lib/python3.11/dist-packages/transformers/utils/hub.py\u001b[0m in \u001b[0;36mcached_files\u001b[0;34m(path_or_repo_id, filenames, cache_dir, force_download, resume_download, proxies, token, revision, local_files_only, subfolder, repo_type, user_agent, _raise_exceptions_for_gated_repo, _raise_exceptions_for_missing_entries, _raise_exceptions_for_connection_errors, _commit_hash, **deprecated_kwargs)\u001b[0m\n\u001b[1;32m    423\u001b[0m             \u001b[0;31m# This is slightly better for only 1 file\u001b[0m\u001b[0;34m\u001b[0m\u001b[0;34m\u001b[0m\u001b[0m\n\u001b[0;32m--> 424\u001b[0;31m             hf_hub_download(\n\u001b[0m\u001b[1;32m    425\u001b[0m                 \u001b[0mpath_or_repo_id\u001b[0m\u001b[0;34m,\u001b[0m\u001b[0;34m\u001b[0m\u001b[0;34m\u001b[0m\u001b[0m\n",
            "\u001b[0;32m/usr/local/lib/python3.11/dist-packages/huggingface_hub/utils/_validators.py\u001b[0m in \u001b[0;36m_inner_fn\u001b[0;34m(*args, **kwargs)\u001b[0m\n\u001b[1;32m    113\u001b[0m \u001b[0;34m\u001b[0m\u001b[0m\n\u001b[0;32m--> 114\u001b[0;31m         \u001b[0;32mreturn\u001b[0m \u001b[0mfn\u001b[0m\u001b[0;34m(\u001b[0m\u001b[0;34m*\u001b[0m\u001b[0margs\u001b[0m\u001b[0;34m,\u001b[0m \u001b[0;34m**\u001b[0m\u001b[0mkwargs\u001b[0m\u001b[0;34m)\u001b[0m\u001b[0;34m\u001b[0m\u001b[0;34m\u001b[0m\u001b[0m\n\u001b[0m\u001b[1;32m    115\u001b[0m \u001b[0;34m\u001b[0m\u001b[0m\n",
            "\u001b[0;32m/usr/local/lib/python3.11/dist-packages/huggingface_hub/file_download.py\u001b[0m in \u001b[0;36mhf_hub_download\u001b[0;34m(repo_id, filename, subfolder, repo_type, revision, library_name, library_version, cache_dir, local_dir, user_agent, force_download, proxies, etag_timeout, token, local_files_only, headers, endpoint, resume_download, force_filename, local_dir_use_symlinks)\u001b[0m\n\u001b[1;32m    960\u001b[0m     \u001b[0;32melse\u001b[0m\u001b[0;34m:\u001b[0m\u001b[0;34m\u001b[0m\u001b[0;34m\u001b[0m\u001b[0m\n\u001b[0;32m--> 961\u001b[0;31m         return _hf_hub_download_to_cache_dir(\n\u001b[0m\u001b[1;32m    962\u001b[0m             \u001b[0;31m# Destination\u001b[0m\u001b[0;34m\u001b[0m\u001b[0;34m\u001b[0m\u001b[0m\n",
            "\u001b[0;32m/usr/local/lib/python3.11/dist-packages/huggingface_hub/file_download.py\u001b[0m in \u001b[0;36m_hf_hub_download_to_cache_dir\u001b[0;34m(cache_dir, repo_id, filename, repo_type, revision, endpoint, etag_timeout, headers, proxies, token, local_files_only, force_download)\u001b[0m\n\u001b[1;32m   1067\u001b[0m         \u001b[0;31m# Otherwise, raise appropriate error\u001b[0m\u001b[0;34m\u001b[0m\u001b[0;34m\u001b[0m\u001b[0m\n\u001b[0;32m-> 1068\u001b[0;31m         \u001b[0m_raise_on_head_call_error\u001b[0m\u001b[0;34m(\u001b[0m\u001b[0mhead_call_error\u001b[0m\u001b[0;34m,\u001b[0m \u001b[0mforce_download\u001b[0m\u001b[0;34m,\u001b[0m \u001b[0mlocal_files_only\u001b[0m\u001b[0;34m)\u001b[0m\u001b[0;34m\u001b[0m\u001b[0;34m\u001b[0m\u001b[0m\n\u001b[0m\u001b[1;32m   1069\u001b[0m \u001b[0;34m\u001b[0m\u001b[0m\n",
            "\u001b[0;32m/usr/local/lib/python3.11/dist-packages/huggingface_hub/file_download.py\u001b[0m in \u001b[0;36m_raise_on_head_call_error\u001b[0;34m(head_call_error, force_download, local_files_only)\u001b[0m\n\u001b[1;32m   1595\u001b[0m         \u001b[0;31m# Unauthorized => likely a token issue => let's raise the actual error\u001b[0m\u001b[0;34m\u001b[0m\u001b[0;34m\u001b[0m\u001b[0m\n\u001b[0;32m-> 1596\u001b[0;31m         \u001b[0;32mraise\u001b[0m \u001b[0mhead_call_error\u001b[0m\u001b[0;34m\u001b[0m\u001b[0;34m\u001b[0m\u001b[0m\n\u001b[0m\u001b[1;32m   1597\u001b[0m     \u001b[0;32melse\u001b[0m\u001b[0;34m:\u001b[0m\u001b[0;34m\u001b[0m\u001b[0;34m\u001b[0m\u001b[0m\n",
            "\u001b[0;32m/usr/local/lib/python3.11/dist-packages/huggingface_hub/file_download.py\u001b[0m in \u001b[0;36m_get_metadata_or_catch_error\u001b[0;34m(repo_id, filename, repo_type, revision, endpoint, proxies, etag_timeout, headers, token, local_files_only, relative_filename, storage_folder)\u001b[0m\n\u001b[1;32m   1483\u001b[0m             \u001b[0;32mtry\u001b[0m\u001b[0;34m:\u001b[0m\u001b[0;34m\u001b[0m\u001b[0;34m\u001b[0m\u001b[0m\n\u001b[0;32m-> 1484\u001b[0;31m                 metadata = get_hf_file_metadata(\n\u001b[0m\u001b[1;32m   1485\u001b[0m                     \u001b[0murl\u001b[0m\u001b[0;34m=\u001b[0m\u001b[0murl\u001b[0m\u001b[0;34m,\u001b[0m \u001b[0mproxies\u001b[0m\u001b[0;34m=\u001b[0m\u001b[0mproxies\u001b[0m\u001b[0;34m,\u001b[0m \u001b[0mtimeout\u001b[0m\u001b[0;34m=\u001b[0m\u001b[0metag_timeout\u001b[0m\u001b[0;34m,\u001b[0m \u001b[0mheaders\u001b[0m\u001b[0;34m=\u001b[0m\u001b[0mheaders\u001b[0m\u001b[0;34m,\u001b[0m \u001b[0mtoken\u001b[0m\u001b[0;34m=\u001b[0m\u001b[0mtoken\u001b[0m\u001b[0;34m\u001b[0m\u001b[0;34m\u001b[0m\u001b[0m\n",
            "\u001b[0;32m/usr/local/lib/python3.11/dist-packages/huggingface_hub/utils/_validators.py\u001b[0m in \u001b[0;36m_inner_fn\u001b[0;34m(*args, **kwargs)\u001b[0m\n\u001b[1;32m    113\u001b[0m \u001b[0;34m\u001b[0m\u001b[0m\n\u001b[0;32m--> 114\u001b[0;31m         \u001b[0;32mreturn\u001b[0m \u001b[0mfn\u001b[0m\u001b[0;34m(\u001b[0m\u001b[0;34m*\u001b[0m\u001b[0margs\u001b[0m\u001b[0;34m,\u001b[0m \u001b[0;34m**\u001b[0m\u001b[0mkwargs\u001b[0m\u001b[0;34m)\u001b[0m\u001b[0;34m\u001b[0m\u001b[0;34m\u001b[0m\u001b[0m\n\u001b[0m\u001b[1;32m    115\u001b[0m \u001b[0;34m\u001b[0m\u001b[0m\n",
            "\u001b[0;32m/usr/local/lib/python3.11/dist-packages/huggingface_hub/file_download.py\u001b[0m in \u001b[0;36mget_hf_file_metadata\u001b[0;34m(url, token, proxies, timeout, library_name, library_version, user_agent, headers)\u001b[0m\n\u001b[1;32m   1400\u001b[0m     \u001b[0;31m# Retrieve metadata\u001b[0m\u001b[0;34m\u001b[0m\u001b[0;34m\u001b[0m\u001b[0m\n\u001b[0;32m-> 1401\u001b[0;31m     r = _request_wrapper(\n\u001b[0m\u001b[1;32m   1402\u001b[0m         \u001b[0mmethod\u001b[0m\u001b[0;34m=\u001b[0m\u001b[0;34m\"HEAD\"\u001b[0m\u001b[0;34m,\u001b[0m\u001b[0;34m\u001b[0m\u001b[0;34m\u001b[0m\u001b[0m\n",
            "\u001b[0;32m/usr/local/lib/python3.11/dist-packages/huggingface_hub/file_download.py\u001b[0m in \u001b[0;36m_request_wrapper\u001b[0;34m(method, url, follow_relative_redirects, **params)\u001b[0m\n\u001b[1;32m    284\u001b[0m     \u001b[0;32mif\u001b[0m \u001b[0mfollow_relative_redirects\u001b[0m\u001b[0;34m:\u001b[0m\u001b[0;34m\u001b[0m\u001b[0;34m\u001b[0m\u001b[0m\n\u001b[0;32m--> 285\u001b[0;31m         response = _request_wrapper(\n\u001b[0m\u001b[1;32m    286\u001b[0m             \u001b[0mmethod\u001b[0m\u001b[0;34m=\u001b[0m\u001b[0mmethod\u001b[0m\u001b[0;34m,\u001b[0m\u001b[0;34m\u001b[0m\u001b[0;34m\u001b[0m\u001b[0m\n",
            "\u001b[0;32m/usr/local/lib/python3.11/dist-packages/huggingface_hub/file_download.py\u001b[0m in \u001b[0;36m_request_wrapper\u001b[0;34m(method, url, follow_relative_redirects, **params)\u001b[0m\n\u001b[1;32m    308\u001b[0m     \u001b[0mresponse\u001b[0m \u001b[0;34m=\u001b[0m \u001b[0mget_session\u001b[0m\u001b[0;34m(\u001b[0m\u001b[0;34m)\u001b[0m\u001b[0;34m.\u001b[0m\u001b[0mrequest\u001b[0m\u001b[0;34m(\u001b[0m\u001b[0mmethod\u001b[0m\u001b[0;34m=\u001b[0m\u001b[0mmethod\u001b[0m\u001b[0;34m,\u001b[0m \u001b[0murl\u001b[0m\u001b[0;34m=\u001b[0m\u001b[0murl\u001b[0m\u001b[0;34m,\u001b[0m \u001b[0;34m**\u001b[0m\u001b[0mparams\u001b[0m\u001b[0;34m)\u001b[0m\u001b[0;34m\u001b[0m\u001b[0;34m\u001b[0m\u001b[0m\n\u001b[0;32m--> 309\u001b[0;31m     \u001b[0mhf_raise_for_status\u001b[0m\u001b[0;34m(\u001b[0m\u001b[0mresponse\u001b[0m\u001b[0;34m)\u001b[0m\u001b[0;34m\u001b[0m\u001b[0;34m\u001b[0m\u001b[0m\n\u001b[0m\u001b[1;32m    310\u001b[0m     \u001b[0;32mreturn\u001b[0m \u001b[0mresponse\u001b[0m\u001b[0;34m\u001b[0m\u001b[0;34m\u001b[0m\u001b[0m\n",
            "\u001b[0;32m/usr/local/lib/python3.11/dist-packages/huggingface_hub/utils/_http.py\u001b[0m in \u001b[0;36mhf_raise_for_status\u001b[0;34m(response, endpoint_name)\u001b[0m\n\u001b[1;32m    425\u001b[0m             )\n\u001b[0;32m--> 426\u001b[0;31m             \u001b[0;32mraise\u001b[0m \u001b[0m_format\u001b[0m\u001b[0;34m(\u001b[0m\u001b[0mGatedRepoError\u001b[0m\u001b[0;34m,\u001b[0m \u001b[0mmessage\u001b[0m\u001b[0;34m,\u001b[0m \u001b[0mresponse\u001b[0m\u001b[0;34m)\u001b[0m \u001b[0;32mfrom\u001b[0m \u001b[0me\u001b[0m\u001b[0;34m\u001b[0m\u001b[0;34m\u001b[0m\u001b[0m\n\u001b[0m\u001b[1;32m    427\u001b[0m \u001b[0;34m\u001b[0m\u001b[0m\n",
            "\u001b[0;31mGatedRepoError\u001b[0m: 401 Client Error. (Request ID: Root=1-67fc0df3-7368f101792869407c26cfe0;3c64c6e0-d656-4d5e-b7e1-6ae2227f2747)\n\nCannot access gated repo for url https://huggingface.co/meta-llama/Llama-2-7b-hf/resolve/main/config.json.\nAccess to model meta-llama/Llama-2-7b-hf is restricted. You must have access to it and be authenticated to access it. Please log in.",
            "\nThe above exception was the direct cause of the following exception:\n",
            "\u001b[0;31mOSError\u001b[0m                                   Traceback (most recent call last)",
            "\u001b[0;32m<ipython-input-48-78a649be6f06>\u001b[0m in \u001b[0;36m<cell line: 0>\u001b[0;34m()\u001b[0m\n\u001b[1;32m      2\u001b[0m \u001b[0mmodel_name\u001b[0m \u001b[0;34m=\u001b[0m \u001b[0;34m\"meta-llama/Llama-2-7b-hf\"\u001b[0m\u001b[0;34m\u001b[0m\u001b[0;34m\u001b[0m\u001b[0m\n\u001b[1;32m      3\u001b[0m \u001b[0;34m\u001b[0m\u001b[0m\n\u001b[0;32m----> 4\u001b[0;31m \u001b[0mtokenizer\u001b[0m \u001b[0;34m=\u001b[0m \u001b[0mAutoTokenizer\u001b[0m\u001b[0;34m.\u001b[0m\u001b[0mfrom_pretrained\u001b[0m\u001b[0;34m(\u001b[0m\u001b[0mmodel_name\u001b[0m\u001b[0;34m)\u001b[0m\u001b[0;34m\u001b[0m\u001b[0;34m\u001b[0m\u001b[0m\n\u001b[0m\u001b[1;32m      5\u001b[0m \u001b[0mmodel\u001b[0m \u001b[0;34m=\u001b[0m \u001b[0mAutoModelForCausalLM\u001b[0m\u001b[0;34m.\u001b[0m\u001b[0mfrom_pretrained\u001b[0m\u001b[0;34m(\u001b[0m\u001b[0mmodel_name\u001b[0m\u001b[0;34m,\u001b[0m \u001b[0mdevice_map\u001b[0m\u001b[0;34m=\u001b[0m\u001b[0;34m\"auto\"\u001b[0m\u001b[0;34m,\u001b[0m \u001b[0mload_in_8bit\u001b[0m\u001b[0;34m=\u001b[0m\u001b[0;32mTrue\u001b[0m\u001b[0;34m)\u001b[0m\u001b[0;34m\u001b[0m\u001b[0;34m\u001b[0m\u001b[0m\n\u001b[1;32m      6\u001b[0m \u001b[0;34m\u001b[0m\u001b[0m\n",
            "\u001b[0;32m/usr/local/lib/python3.11/dist-packages/transformers/models/auto/tokenization_auto.py\u001b[0m in \u001b[0;36mfrom_pretrained\u001b[0;34m(cls, pretrained_model_name_or_path, *inputs, **kwargs)\u001b[0m\n\u001b[1;32m    963\u001b[0m                     \u001b[0mconfig\u001b[0m \u001b[0;34m=\u001b[0m \u001b[0mAutoConfig\u001b[0m\u001b[0;34m.\u001b[0m\u001b[0mfor_model\u001b[0m\u001b[0;34m(\u001b[0m\u001b[0;34m**\u001b[0m\u001b[0mconfig_dict\u001b[0m\u001b[0;34m)\u001b[0m\u001b[0;34m\u001b[0m\u001b[0;34m\u001b[0m\u001b[0m\n\u001b[1;32m    964\u001b[0m                 \u001b[0;32melse\u001b[0m\u001b[0;34m:\u001b[0m\u001b[0;34m\u001b[0m\u001b[0;34m\u001b[0m\u001b[0m\n\u001b[0;32m--> 965\u001b[0;31m                     config = AutoConfig.from_pretrained(\n\u001b[0m\u001b[1;32m    966\u001b[0m                         \u001b[0mpretrained_model_name_or_path\u001b[0m\u001b[0;34m,\u001b[0m \u001b[0mtrust_remote_code\u001b[0m\u001b[0;34m=\u001b[0m\u001b[0mtrust_remote_code\u001b[0m\u001b[0;34m,\u001b[0m \u001b[0;34m**\u001b[0m\u001b[0mkwargs\u001b[0m\u001b[0;34m\u001b[0m\u001b[0;34m\u001b[0m\u001b[0m\n\u001b[1;32m    967\u001b[0m                     )\n",
            "\u001b[0;32m/usr/local/lib/python3.11/dist-packages/transformers/models/auto/configuration_auto.py\u001b[0m in \u001b[0;36mfrom_pretrained\u001b[0;34m(cls, pretrained_model_name_or_path, **kwargs)\u001b[0m\n\u001b[1;32m   1110\u001b[0m         \u001b[0mcode_revision\u001b[0m \u001b[0;34m=\u001b[0m \u001b[0mkwargs\u001b[0m\u001b[0;34m.\u001b[0m\u001b[0mpop\u001b[0m\u001b[0;34m(\u001b[0m\u001b[0;34m\"code_revision\"\u001b[0m\u001b[0;34m,\u001b[0m \u001b[0;32mNone\u001b[0m\u001b[0;34m)\u001b[0m\u001b[0;34m\u001b[0m\u001b[0;34m\u001b[0m\u001b[0m\n\u001b[1;32m   1111\u001b[0m \u001b[0;34m\u001b[0m\u001b[0m\n\u001b[0;32m-> 1112\u001b[0;31m         \u001b[0mconfig_dict\u001b[0m\u001b[0;34m,\u001b[0m \u001b[0munused_kwargs\u001b[0m \u001b[0;34m=\u001b[0m \u001b[0mPretrainedConfig\u001b[0m\u001b[0;34m.\u001b[0m\u001b[0mget_config_dict\u001b[0m\u001b[0;34m(\u001b[0m\u001b[0mpretrained_model_name_or_path\u001b[0m\u001b[0;34m,\u001b[0m \u001b[0;34m**\u001b[0m\u001b[0mkwargs\u001b[0m\u001b[0;34m)\u001b[0m\u001b[0;34m\u001b[0m\u001b[0;34m\u001b[0m\u001b[0m\n\u001b[0m\u001b[1;32m   1113\u001b[0m         \u001b[0mhas_remote_code\u001b[0m \u001b[0;34m=\u001b[0m \u001b[0;34m\"auto_map\"\u001b[0m \u001b[0;32min\u001b[0m \u001b[0mconfig_dict\u001b[0m \u001b[0;32mand\u001b[0m \u001b[0;34m\"AutoConfig\"\u001b[0m \u001b[0;32min\u001b[0m \u001b[0mconfig_dict\u001b[0m\u001b[0;34m[\u001b[0m\u001b[0;34m\"auto_map\"\u001b[0m\u001b[0;34m]\u001b[0m\u001b[0;34m\u001b[0m\u001b[0;34m\u001b[0m\u001b[0m\n\u001b[1;32m   1114\u001b[0m         \u001b[0mhas_local_code\u001b[0m \u001b[0;34m=\u001b[0m \u001b[0;34m\"model_type\"\u001b[0m \u001b[0;32min\u001b[0m \u001b[0mconfig_dict\u001b[0m \u001b[0;32mand\u001b[0m \u001b[0mconfig_dict\u001b[0m\u001b[0;34m[\u001b[0m\u001b[0;34m\"model_type\"\u001b[0m\u001b[0;34m]\u001b[0m \u001b[0;32min\u001b[0m \u001b[0mCONFIG_MAPPING\u001b[0m\u001b[0;34m\u001b[0m\u001b[0;34m\u001b[0m\u001b[0m\n",
            "\u001b[0;32m/usr/local/lib/python3.11/dist-packages/transformers/configuration_utils.py\u001b[0m in \u001b[0;36mget_config_dict\u001b[0;34m(cls, pretrained_model_name_or_path, **kwargs)\u001b[0m\n\u001b[1;32m    588\u001b[0m         \u001b[0moriginal_kwargs\u001b[0m \u001b[0;34m=\u001b[0m \u001b[0mcopy\u001b[0m\u001b[0;34m.\u001b[0m\u001b[0mdeepcopy\u001b[0m\u001b[0;34m(\u001b[0m\u001b[0mkwargs\u001b[0m\u001b[0;34m)\u001b[0m\u001b[0;34m\u001b[0m\u001b[0;34m\u001b[0m\u001b[0m\n\u001b[1;32m    589\u001b[0m         \u001b[0;31m# Get config dict associated with the base config file\u001b[0m\u001b[0;34m\u001b[0m\u001b[0;34m\u001b[0m\u001b[0m\n\u001b[0;32m--> 590\u001b[0;31m         \u001b[0mconfig_dict\u001b[0m\u001b[0;34m,\u001b[0m \u001b[0mkwargs\u001b[0m \u001b[0;34m=\u001b[0m \u001b[0mcls\u001b[0m\u001b[0;34m.\u001b[0m\u001b[0m_get_config_dict\u001b[0m\u001b[0;34m(\u001b[0m\u001b[0mpretrained_model_name_or_path\u001b[0m\u001b[0;34m,\u001b[0m \u001b[0;34m**\u001b[0m\u001b[0mkwargs\u001b[0m\u001b[0;34m)\u001b[0m\u001b[0;34m\u001b[0m\u001b[0;34m\u001b[0m\u001b[0m\n\u001b[0m\u001b[1;32m    591\u001b[0m         \u001b[0;32mif\u001b[0m \u001b[0mconfig_dict\u001b[0m \u001b[0;32mis\u001b[0m \u001b[0;32mNone\u001b[0m\u001b[0;34m:\u001b[0m\u001b[0;34m\u001b[0m\u001b[0;34m\u001b[0m\u001b[0m\n\u001b[1;32m    592\u001b[0m             \u001b[0;32mreturn\u001b[0m \u001b[0;34m{\u001b[0m\u001b[0;34m}\u001b[0m\u001b[0;34m,\u001b[0m \u001b[0mkwargs\u001b[0m\u001b[0;34m\u001b[0m\u001b[0;34m\u001b[0m\u001b[0m\n",
            "\u001b[0;32m/usr/local/lib/python3.11/dist-packages/transformers/configuration_utils.py\u001b[0m in \u001b[0;36m_get_config_dict\u001b[0;34m(cls, pretrained_model_name_or_path, **kwargs)\u001b[0m\n\u001b[1;32m    647\u001b[0m             \u001b[0;32mtry\u001b[0m\u001b[0;34m:\u001b[0m\u001b[0;34m\u001b[0m\u001b[0;34m\u001b[0m\u001b[0m\n\u001b[1;32m    648\u001b[0m                 \u001b[0;31m# Load from local folder or from cache or download from model Hub and cache\u001b[0m\u001b[0;34m\u001b[0m\u001b[0;34m\u001b[0m\u001b[0m\n\u001b[0;32m--> 649\u001b[0;31m                 resolved_config_file = cached_file(\n\u001b[0m\u001b[1;32m    650\u001b[0m                     \u001b[0mpretrained_model_name_or_path\u001b[0m\u001b[0;34m,\u001b[0m\u001b[0;34m\u001b[0m\u001b[0;34m\u001b[0m\u001b[0m\n\u001b[1;32m    651\u001b[0m                     \u001b[0mconfiguration_file\u001b[0m\u001b[0;34m,\u001b[0m\u001b[0;34m\u001b[0m\u001b[0;34m\u001b[0m\u001b[0m\n",
            "\u001b[0;32m/usr/local/lib/python3.11/dist-packages/transformers/utils/hub.py\u001b[0m in \u001b[0;36mcached_file\u001b[0;34m(path_or_repo_id, filename, **kwargs)\u001b[0m\n\u001b[1;32m    264\u001b[0m     \u001b[0;31m`\u001b[0m\u001b[0;31m`\u001b[0m\u001b[0;31m`\u001b[0m\u001b[0;34m\u001b[0m\u001b[0;34m\u001b[0m\u001b[0m\n\u001b[1;32m    265\u001b[0m     \"\"\"\n\u001b[0;32m--> 266\u001b[0;31m     \u001b[0mfile\u001b[0m \u001b[0;34m=\u001b[0m \u001b[0mcached_files\u001b[0m\u001b[0;34m(\u001b[0m\u001b[0mpath_or_repo_id\u001b[0m\u001b[0;34m=\u001b[0m\u001b[0mpath_or_repo_id\u001b[0m\u001b[0;34m,\u001b[0m \u001b[0mfilenames\u001b[0m\u001b[0;34m=\u001b[0m\u001b[0;34m[\u001b[0m\u001b[0mfilename\u001b[0m\u001b[0;34m]\u001b[0m\u001b[0;34m,\u001b[0m \u001b[0;34m**\u001b[0m\u001b[0mkwargs\u001b[0m\u001b[0;34m)\u001b[0m\u001b[0;34m\u001b[0m\u001b[0;34m\u001b[0m\u001b[0m\n\u001b[0m\u001b[1;32m    267\u001b[0m     \u001b[0mfile\u001b[0m \u001b[0;34m=\u001b[0m \u001b[0mfile\u001b[0m\u001b[0;34m[\u001b[0m\u001b[0;36m0\u001b[0m\u001b[0;34m]\u001b[0m \u001b[0;32mif\u001b[0m \u001b[0mfile\u001b[0m \u001b[0;32mis\u001b[0m \u001b[0;32mnot\u001b[0m \u001b[0;32mNone\u001b[0m \u001b[0;32melse\u001b[0m \u001b[0mfile\u001b[0m\u001b[0;34m\u001b[0m\u001b[0;34m\u001b[0m\u001b[0m\n\u001b[1;32m    268\u001b[0m     \u001b[0;32mreturn\u001b[0m \u001b[0mfile\u001b[0m\u001b[0;34m\u001b[0m\u001b[0;34m\u001b[0m\u001b[0m\n",
            "\u001b[0;32m/usr/local/lib/python3.11/dist-packages/transformers/utils/hub.py\u001b[0m in \u001b[0;36mcached_files\u001b[0;34m(path_or_repo_id, filenames, cache_dir, force_download, resume_download, proxies, token, revision, local_files_only, subfolder, repo_type, user_agent, _raise_exceptions_for_gated_repo, _raise_exceptions_for_missing_entries, _raise_exceptions_for_connection_errors, _commit_hash, **deprecated_kwargs)\u001b[0m\n\u001b[1;32m    479\u001b[0m             \u001b[0;32mif\u001b[0m \u001b[0;32mnot\u001b[0m \u001b[0m_raise_exceptions_for_gated_repo\u001b[0m\u001b[0;34m:\u001b[0m\u001b[0;34m\u001b[0m\u001b[0;34m\u001b[0m\u001b[0m\n\u001b[1;32m    480\u001b[0m                 \u001b[0;32mreturn\u001b[0m \u001b[0;32mNone\u001b[0m\u001b[0;34m\u001b[0m\u001b[0;34m\u001b[0m\u001b[0m\n\u001b[0;32m--> 481\u001b[0;31m             raise OSError(\n\u001b[0m\u001b[1;32m    482\u001b[0m                 \u001b[0;34m\"You are trying to access a gated repo.\\nMake sure to have access to it at \"\u001b[0m\u001b[0;34m\u001b[0m\u001b[0;34m\u001b[0m\u001b[0m\n\u001b[1;32m    483\u001b[0m                 \u001b[0;34mf\"https://huggingface.co/{path_or_repo_id}.\\n{str(e)}\"\u001b[0m\u001b[0;34m\u001b[0m\u001b[0;34m\u001b[0m\u001b[0m\n",
            "\u001b[0;31mOSError\u001b[0m: You are trying to access a gated repo.\nMake sure to have access to it at https://huggingface.co/meta-llama/Llama-2-7b-hf.\n401 Client Error. (Request ID: Root=1-67fc0df3-7368f101792869407c26cfe0;3c64c6e0-d656-4d5e-b7e1-6ae2227f2747)\n\nCannot access gated repo for url https://huggingface.co/meta-llama/Llama-2-7b-hf/resolve/main/config.json.\nAccess to model meta-llama/Llama-2-7b-hf is restricted. You must have access to it and be authenticated to access it. Please log in."
          ]
        }
      ],
      "source": [
        "# Load a small LLaMA-compatible model from Hugging Face for PEFT\n",
        "model_name = \"meta-llama/Llama-2-7b-hf\"\n",
        "\n",
        "tokenizer = AutoTokenizer.from_pretrained(model_name)\n",
        "model = AutoModelForCausalLM.from_pretrained(model_name, device_map=\"auto\", load_in_8bit=True)\n",
        "\n"
      ]
    },
    {
      "cell_type": "code",
      "execution_count": null,
      "metadata": {
        "colab": {
          "background_save": true
        },
        "id": "_lScnOeveFZH"
      },
      "outputs": [],
      "source": [
        "\n",
        "# PEFT configuration with LoRA\n",
        "peft_config = LoraConfig(\n",
        "    task_type=TaskType.CAUSAL_LM,\n",
        "    inference_mode=False,\n",
        "    r=8,\n",
        "    lora_alpha=32,\n",
        "    lora_dropout=0.1,\n",
        "    bias=\"none\"\n",
        ")\n",
        "\n",
        "model = get_peft_model(model, peft_config)\n",
        "model.print_trainable_parameters()\n",
        "\n",
        "# Example input formatting\n",
        "example_prompt = \"### Recipe Instructions: Preheat oven to 350°F. Mix flour and sugar. ### Predict Rating:\"\n",
        "inputs = tokenizer(example_prompt, return_tensors=\"pt\").to(model.device)\n",
        "outputs = model.generate(**inputs, max_new_tokens=10)\n",
        "print(tokenizer.decode(outputs[0]))"
      ]
    }
  ],
  "metadata": {
    "colab": {
      "provenance": [],
      "include_colab_link": true
    },
    "kernelspec": {
      "display_name": "Python 3",
      "name": "python3"
    },
    "language_info": {
      "name": "python"
    }
  },
  "nbformat": 4,
  "nbformat_minor": 0
}